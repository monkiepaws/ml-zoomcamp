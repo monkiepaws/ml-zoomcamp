{
 "cells": [
  {
   "cell_type": "markdown",
   "id": "cd40d7ba",
   "metadata": {},
   "source": [
    "# 01.08 Linear algebra refresher\n",
    "- Vector operations\n",
    "- Multiplication\n",
    "- Vector-vector multiplication\n",
    "- Matrix-vector multiplication\n",
    "- Matrix-matrix multiplication\n",
    "- Identity matrix\n",
    "- Inverse"
   ]
  },
  {
   "cell_type": "markdown",
   "id": "e1bfef7b",
   "metadata": {},
   "source": [
    "## Setup"
   ]
  },
  {
   "cell_type": "code",
   "execution_count": 36,
   "id": "1de3653f",
   "metadata": {},
   "outputs": [],
   "source": [
    "import numpy as np"
   ]
  },
  {
   "cell_type": "markdown",
   "id": "a1779123",
   "metadata": {},
   "source": [
    "## Vector operations"
   ]
  },
  {
   "cell_type": "code",
   "execution_count": 37,
   "id": "d33028ef",
   "metadata": {},
   "outputs": [
    {
     "name": "stdout",
     "output_type": "stream",
     "text": [
      "addition: [ 5 11 13 12]\n",
      "subtraction: [-1  3 -3  0]\n",
      "scalar multiplication: [ 6  8 16 12]\n"
     ]
    }
   ],
   "source": [
    "u = np.array([2, 7, 5, 6])\n",
    "v = np.array([3, 4, 8, 6])\n",
    "\n",
    "# addition\n",
    "print(f\"addition: {u + v}\")\n",
    "\n",
    "# subtraction\n",
    "print(f\"subtraction: {u - v}\")\n",
    "\n",
    "# scalar multiplication\n",
    "print(f\"scalar multiplication: {2 * v}\")"
   ]
  },
  {
   "cell_type": "markdown",
   "id": "411a074c",
   "metadata": {},
   "source": [
    "## Multiplication"
   ]
  },
  {
   "cell_type": "markdown",
   "id": "9eb1d6bc",
   "metadata": {},
   "source": [
    "### Vector-vector multiplication"
   ]
  },
  {
   "cell_type": "code",
   "execution_count": 38,
   "id": "243686a7",
   "metadata": {},
   "outputs": [
    {
     "name": "stdout",
     "output_type": "stream",
     "text": [
      "shape of u: (4,)\n",
      "shape of v: (4,)\n"
     ]
    }
   ],
   "source": [
    "# For multiplication, we need the number of elements to be the same\n",
    "print(f\"shape of u: {u.shape}\")\n",
    "print(f\"shape of v: {v.shape}\")"
   ]
  },
  {
   "cell_type": "code",
   "execution_count": 39,
   "id": "e4907d81",
   "metadata": {},
   "outputs": [],
   "source": [
    "def vector_vector_multiplication(u, v):\n",
    "    \"\"\"Compute the dot product of two vectors u and v.\"\"\"\n",
    "\n",
    "    assert u.shape[0] == v.shape[0], \"Shapes must be the same\"\n",
    "\n",
    "    n = u.shape[0]\n",
    "\n",
    "    result = 0.0\n",
    "\n",
    "    for i in range(n):\n",
    "        result += u[i] * v[i]\n",
    "\n",
    "    return result"
   ]
  },
  {
   "cell_type": "code",
   "execution_count": 40,
   "id": "b7e8bc06",
   "metadata": {},
   "outputs": [
    {
     "name": "stdout",
     "output_type": "stream",
     "text": [
      "dot product (custom function): 110.0\n",
      "dot product (np.dot): 110\n"
     ]
    }
   ],
   "source": [
    "# We can also use np.dot\n",
    "print(f\"dot product (custom function): {vector_vector_multiplication(u, v)}\")\n",
    "print(f\"dot product (np.dot): {u.dot(v)}\")"
   ]
  },
  {
   "cell_type": "markdown",
   "id": "87d5880a",
   "metadata": {},
   "source": [
    "### Matrix-vector multiplication"
   ]
  },
  {
   "cell_type": "code",
   "execution_count": 41,
   "id": "b5a2b172",
   "metadata": {},
   "outputs": [],
   "source": [
    "# Transposed matrix\n",
    "U = np.array([[2, 4, 5, 6],\n",
    "              [1, 2, 1, 2],\n",
    "              [3, 1, 2, 1]])"
   ]
  },
  {
   "cell_type": "code",
   "execution_count": 42,
   "id": "4be43577",
   "metadata": {},
   "outputs": [],
   "source": [
    "def matrix_vector_multiplication(U, v):\n",
    "    \"\"\"Compute the product of a matrix U and a vector v.\"\"\"\n",
    "    assert U.shape[1] == v.shape[0], \"Incompatible shapes\"\n",
    "\n",
    "    num_rows = U.shape[0]\n",
    "\n",
    "    result = np.zeros(num_rows)\n",
    "\n",
    "    for i in range(num_rows):\n",
    "        result[i] = vector_vector_multiplication(U[i], v)\n",
    "\n",
    "    return result"
   ]
  },
  {
   "cell_type": "code",
   "execution_count": 43,
   "id": "ab7f97b5",
   "metadata": {},
   "outputs": [
    {
     "name": "stdout",
     "output_type": "stream",
     "text": [
      "dot product (custom function): [98. 31. 35.]\n",
      "dot product (np.dot): [98 31 35]\n"
     ]
    }
   ],
   "source": [
    "# We can also use np.dot\n",
    "print(f\"dot product (custom function): {matrix_vector_multiplication(U, v)}\")\n",
    "print(f\"dot product (np.dot): {U.dot(v)}\")"
   ]
  },
  {
   "cell_type": "markdown",
   "id": "09ad36a3",
   "metadata": {},
   "source": [
    "### Matrix-matrix multiplication"
   ]
  },
  {
   "cell_type": "code",
   "execution_count": 44,
   "id": "94587a96",
   "metadata": {},
   "outputs": [],
   "source": [
    "V = np.array([[2, 4, 5],\n",
    "              [1, 2, 1],\n",
    "              [3, 1, 2],\n",
    "              [1, 0, 2]])"
   ]
  },
  {
   "cell_type": "code",
   "execution_count": null,
   "id": "f3549a98",
   "metadata": {},
   "outputs": [],
   "source": [
    "def matrix_matrix_multiplication(U, V):\n",
    "    \"\"\"Compute the product of two matrices U and V.\"\"\"\n",
    "    assert U.shape[1] == V.shape[0], \"Incompatible shapes\"\n",
    "\n",
    "    num_rows = U.shape[0]\n",
    "    num_cols = V.shape[1]\n",
    "\n",
    "    result = np.zeros((num_rows, num_cols))  # Initialize a matrix of zeros\n",
    "\n",
    "    for i in range(num_cols):\n",
    "        vi = V[:, i]  # Extract the i-th column of V\n",
    "        # Multiply U by this column vector\n",
    "        Uvi = matrix_vector_multiplication(U, vi)\n",
    "        # Assign the result to the i-th column of the result matrix\n",
    "        result[:, i] = Uvi\n",
    "\n",
    "    return result"
   ]
  },
  {
   "cell_type": "code",
   "execution_count": 46,
   "id": "3495a5ae",
   "metadata": {},
   "outputs": [
    {
     "name": "stdout",
     "output_type": "stream",
     "text": [
      "dot product (custom function): [[29. 21. 36.]\n",
      " [ 9.  9. 13.]\n",
      " [14. 16. 22.]]\n",
      "dot product (np.dot): [[29 21 36]\n",
      " [ 9  9 13]\n",
      " [14 16 22]]\n"
     ]
    }
   ],
   "source": [
    "# We can also use np.dot\n",
    "print(f\"dot product (custom function): {matrix_matrix_multiplication(U, V)}\")\n",
    "print(f\"dot product (np.dot): {U.dot(V)}\")"
   ]
  },
  {
   "cell_type": "markdown",
   "id": "eb6b1d53",
   "metadata": {},
   "source": [
    "### Identity Matrix"
   ]
  },
  {
   "cell_type": "markdown",
   "id": "70103130",
   "metadata": {},
   "source": [
    "#### Description\n",
    "An **Identity Matrix** is a special type of square matrix (same number of rows and columns) where all the elements on the **main diagonal** (from top-left to bottom-right) are **1s**, and all the other elements are **0s**.  \n",
    "\n",
    "For example, a 3×3 identity matrix looks like this:\n",
    "\n",
    "\\[\n",
    "I_3 =\n",
    "\\begin{bmatrix}\n",
    "1 & 0 & 0 \\\\\n",
    "0 & 1 & 0 \\\\\n",
    "0 & 0 & 1\n",
    "\\end{bmatrix}\n",
    "\\]\n",
    "\n",
    "---\n",
    "\n",
    "#### Why It’s Useful\n",
    "\n",
    "1. **Multiplicative Neutral Element**  \n",
    "   Just like multiplying a number by 1 doesn’t change its value, multiplying any matrix \\(A\\) by the identity matrix \\(I\\) (of the same size) leaves \\(A\\) unchanged:  \n",
    "   \\[\n",
    "   AI = IA = A\n",
    "   \\]\n",
    "\n",
    "2. **Matrix Inverses**  \n",
    "   When you compute the inverse of a matrix \\(A^{-1}\\), the goal is to find a matrix that satisfies:  \n",
    "   \\[\n",
    "   AA^{-1} = A^{-1}A = I\n",
    "   \\]  \n",
    "   The identity matrix is the \"target result\" in this definition.\n",
    "\n",
    "3. **Linear Transformations**  \n",
    "   In linear algebra, matrices often represent transformations (like rotation, scaling, etc.). The identity matrix represents the **“do nothing”** transformation—it leaves vectors exactly as they are.\n",
    "\n",
    "4. **Solving Systems of Equations**  \n",
    "   Methods like Gaussian elimination use the identity matrix as a reference when reducing matrices to simpler forms.\n",
    "\n",
    "---\n",
    "\n",
    "✅ **In short**: The identity matrix is to matrices what the number **1** is to real numbers—a fundamental building block for multiplication, inverses, and understanding transformations."
   ]
  },
  {
   "cell_type": "code",
   "execution_count": 47,
   "id": "61543f55",
   "metadata": {},
   "outputs": [
    {
     "data": {
      "text/plain": [
       "array([[1., 0., 0., 0., 0., 0., 0., 0., 0., 0.],\n",
       "       [0., 1., 0., 0., 0., 0., 0., 0., 0., 0.],\n",
       "       [0., 0., 1., 0., 0., 0., 0., 0., 0., 0.],\n",
       "       [0., 0., 0., 1., 0., 0., 0., 0., 0., 0.],\n",
       "       [0., 0., 0., 0., 1., 0., 0., 0., 0., 0.],\n",
       "       [0., 0., 0., 0., 0., 1., 0., 0., 0., 0.],\n",
       "       [0., 0., 0., 0., 0., 0., 1., 0., 0., 0.],\n",
       "       [0., 0., 0., 0., 0., 0., 0., 1., 0., 0.],\n",
       "       [0., 0., 0., 0., 0., 0., 0., 0., 1., 0.],\n",
       "       [0., 0., 0., 0., 0., 0., 0., 0., 0., 1.]])"
      ]
     },
     "execution_count": 47,
     "metadata": {},
     "output_type": "execute_result"
    }
   ],
   "source": [
    "np.eye(10)  # Identity matrix of size 10x10"
   ]
  },
  {
   "cell_type": "markdown",
   "id": "72db1ba7",
   "metadata": {},
   "source": [
    "#### Inverse"
   ]
  },
  {
   "cell_type": "code",
   "execution_count": null,
   "id": "183caa44",
   "metadata": {},
   "outputs": [
    {
     "data": {
      "text/plain": [
       "array([[2, 4, 5],\n",
       "       [1, 2, 1],\n",
       "       [3, 1, 2]])"
      ]
     },
     "execution_count": 48,
     "metadata": {},
     "output_type": "execute_result"
    }
   ],
   "source": [
    "Vs = V[:3]  # Extract the first 3 rows of V\n",
    "Vs"
   ]
  },
  {
   "cell_type": "code",
   "execution_count": null,
   "id": "783407d6",
   "metadata": {},
   "outputs": [
    {
     "data": {
      "text/plain": [
       "array([[-0.2       ,  0.2       ,  0.4       ],\n",
       "       [-0.06666667,  0.73333333, -0.2       ],\n",
       "       [ 0.33333333, -0.66666667, -0.        ]])"
      ]
     },
     "execution_count": 49,
     "metadata": {},
     "output_type": "execute_result"
    }
   ],
   "source": [
    "Vs_inv = np.linalg.inv(Vs)  # Inverse of Vs\n",
    "Vs_inv"
   ]
  },
  {
   "cell_type": "code",
   "execution_count": null,
   "id": "3bee42b2",
   "metadata": {},
   "outputs": [
    {
     "data": {
      "text/plain": [
       "array([[ 1.00000000e+00, -5.55111512e-17,  0.00000000e+00],\n",
       "       [ 2.77555756e-17,  1.00000000e+00, -5.55111512e-17],\n",
       "       [ 0.00000000e+00,  0.00000000e+00,  1.00000000e+00]])"
      ]
     },
     "execution_count": 50,
     "metadata": {},
     "output_type": "execute_result"
    }
   ],
   "source": [
    "Vs_inv.dot(Vs)  # Should be close to the identity matrix"
   ]
  },
  {
   "cell_type": "code",
   "execution_count": 51,
   "id": "de72ee95",
   "metadata": {},
   "outputs": [
    {
     "data": {
      "text/plain": [
       "True"
      ]
     },
     "execution_count": 51,
     "metadata": {},
     "output_type": "execute_result"
    }
   ],
   "source": [
    "# Check if the result is close to identity within tolerance\n",
    "np.allclose(Vs_inv.dot(Vs), np.eye(3))  # Returns True if close enough"
   ]
  },
  {
   "cell_type": "markdown",
   "id": "53737465",
   "metadata": {},
   "source": [
    "#### Why matrix inversion only gets close enough\n",
    "The reason Vs_inv.dot(Vs) only gets close to the identity matrix (rather than being exactly equal) is due to floating-point precision limitations in computer arithmetic.\n",
    "\n",
    "**Floating-Point Precision Issues**\n",
    "When computers perform calculations with real numbers, they use finite precision arithmetic (typically 64-bit floating-point). This means:\n",
    "\n",
    "- Rounding Errors: Each arithmetic operation can introduce tiny rounding errors\n",
    "- Accumulation: These small errors accumulate through the complex calculations involved in matrix inversion\n",
    "- Representation Limits: Some decimal numbers cannot be represented exactly in binary floating-point format\n",
    "\n",
    "**Why This Happens with Matrix Inversion**\n",
    "Matrix inversion involves:\n",
    "- Solving systems of linear equations\n",
    "- Multiple division operations\n",
    "- Complex elimination procedures\n",
    "\n",
    "Each step introduces small numerical errors that compound."
   ]
  }
 ],
 "metadata": {
  "kernelspec": {
   "display_name": "Python 3 (ipykernel)",
   "language": "python",
   "name": "python3"
  },
  "language_info": {
   "codemirror_mode": {
    "name": "ipython",
    "version": 3
   },
   "file_extension": ".py",
   "mimetype": "text/x-python",
   "name": "python",
   "nbconvert_exporter": "python",
   "pygments_lexer": "ipython3",
   "version": "3.11.13"
  }
 },
 "nbformat": 4,
 "nbformat_minor": 5
}
