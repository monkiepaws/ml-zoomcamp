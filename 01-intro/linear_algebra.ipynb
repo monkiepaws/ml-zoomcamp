{
 "cells": [
  {
   "cell_type": "markdown",
   "id": "cd40d7ba",
   "metadata": {},
   "source": [
    "# 01.08 Linear algebra refresher\n",
    "- Vector operations\n",
    "- Multiplication\n",
    "- Vector-vector multiplication\n",
    "- Matrix-vector multiplication\n",
    "- Matrix-matrix multiplication\n",
    "- Identity matrix\n",
    "- Inverse"
   ]
  },
  {
   "cell_type": "markdown",
   "id": "e1bfef7b",
   "metadata": {},
   "source": [
    "## Setup"
   ]
  },
  {
   "cell_type": "code",
   "execution_count": 5,
   "id": "1de3653f",
   "metadata": {},
   "outputs": [],
   "source": [
    "import numpy as np"
   ]
  },
  {
   "cell_type": "markdown",
   "id": "a1779123",
   "metadata": {},
   "source": [
    "## Vector operations"
   ]
  },
  {
   "cell_type": "code",
   "execution_count": 6,
   "id": "d33028ef",
   "metadata": {},
   "outputs": [
    {
     "name": "stdout",
     "output_type": "stream",
     "text": [
      "addition: [ 5 11 13 12]\n",
      "subtraction: [-1  3 -3  0]\n",
      "scalar multiplication: [ 6  8 16 12]\n"
     ]
    }
   ],
   "source": [
    "u = np.array([2, 7, 5, 6])\n",
    "v = np.array([3, 4, 8, 6])\n",
    "\n",
    "# addition\n",
    "print(f\"addition: {u + v}\")\n",
    "\n",
    "# subtraction\n",
    "print(f\"subtraction: {u - v}\")\n",
    "\n",
    "# scalar multiplication\n",
    "print(f\"scalar multiplication: {2 * v}\")"
   ]
  },
  {
   "cell_type": "markdown",
   "id": "411a074c",
   "metadata": {},
   "source": [
    "## Multiplication"
   ]
  },
  {
   "cell_type": "markdown",
   "id": "9eb1d6bc",
   "metadata": {},
   "source": [
    "### Vector-vector multiplication"
   ]
  },
  {
   "cell_type": "code",
   "execution_count": 7,
   "id": "243686a7",
   "metadata": {},
   "outputs": [
    {
     "name": "stdout",
     "output_type": "stream",
     "text": [
      "shape of u: (4,)\n",
      "shape of v: (4,)\n"
     ]
    }
   ],
   "source": [
    "# For multiplication, we need the number of elements to be the same\n",
    "print(f\"shape of u: {u.shape}\")\n",
    "print(f\"shape of v: {v.shape}\")"
   ]
  },
  {
   "cell_type": "code",
   "execution_count": 8,
   "id": "e4907d81",
   "metadata": {},
   "outputs": [],
   "source": [
    "def vector_vector_multiplication(u, v):\n",
    "    \"\"\"Compute the dot product of two vectors u and v.\"\"\"\n",
    "\n",
    "    assert u.shape[0] == v.shape[0], \"Shapes must be the same\"\n",
    "\n",
    "    n = u.shape[0]\n",
    "\n",
    "    result = 0.0\n",
    "\n",
    "    for i in range(n):\n",
    "        result += u[i] * v[i]\n",
    "\n",
    "    return result"
   ]
  },
  {
   "cell_type": "code",
   "execution_count": 9,
   "id": "b7e8bc06",
   "metadata": {},
   "outputs": [
    {
     "name": "stdout",
     "output_type": "stream",
     "text": [
      "dot product (custom function): 110.0\n",
      "dot product (np.dot): 110\n"
     ]
    }
   ],
   "source": [
    "# We can also use np.dot\n",
    "print(f\"dot product (custom function): {vector_vector_multiplication(u, v)}\")\n",
    "print(f\"dot product (np.dot): {u.dot(v)}\")"
   ]
  },
  {
   "cell_type": "markdown",
   "id": "87d5880a",
   "metadata": {},
   "source": [
    "### Matrix-vector multiplication"
   ]
  },
  {
   "cell_type": "code",
   "execution_count": null,
   "id": "b5a2b172",
   "metadata": {},
   "outputs": [],
   "source": [
    "U = np.array([[2, 4, 5, 6],\n",
    "              [1, 2, 1, 2],\n",
    "              [3, 1, 2, 1]])"
   ]
  },
  {
   "cell_type": "code",
   "execution_count": null,
   "id": "4be43577",
   "metadata": {},
   "outputs": [],
   "source": [
    "def matrix_vector_multiplication(U, v):\n",
    "    \"\"\"Compute the product of a matrix U and a vector v.\"\"\"\n",
    "    assert U.shape[1] == v.shape[0], \"Incompatible shapes\"\n",
    "\n",
    "    num_rows = U.shape[0]\n",
    "\n",
    "    result = np.zeros(num_rows)\n",
    "\n",
    "    for i in range(num_rows):\n",
    "        result[i] = vector_vector_multiplication(U[i], v)\n",
    "\n",
    "    return result"
   ]
  },
  {
   "cell_type": "code",
   "execution_count": null,
   "id": "ab7f97b5",
   "metadata": {},
   "outputs": [],
   "source": [
    "# We can also use np.dot\n",
    "print(f\"dot product (custom function): {matrix_vector_multiplication(U, v)}\")\n",
    "print(f\"dot product (np.dot): {U.dot(v)}\")"
   ]
  }
 ],
 "metadata": {
  "kernelspec": {
   "display_name": "Python 3 (ipykernel)",
   "language": "python",
   "name": "python3"
  },
  "language_info": {
   "codemirror_mode": {
    "name": "ipython",
    "version": 3
   },
   "file_extension": ".py",
   "mimetype": "text/x-python",
   "name": "python",
   "nbconvert_exporter": "python",
   "pygments_lexer": "ipython3",
   "version": "3.11.13"
  }
 },
 "nbformat": 4,
 "nbformat_minor": 5
}
