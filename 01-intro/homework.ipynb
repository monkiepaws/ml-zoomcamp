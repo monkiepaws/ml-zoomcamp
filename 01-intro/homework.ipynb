{
 "cells": [
  {
   "cell_type": "markdown",
   "id": "924fb96b",
   "metadata": {},
   "source": [
    "# Homework 01"
   ]
  },
  {
   "cell_type": "markdown",
   "id": "9a4f54ef",
   "metadata": {},
   "source": [
    "## Setup"
   ]
  },
  {
   "cell_type": "code",
   "execution_count": 279,
   "id": "922d19b9",
   "metadata": {},
   "outputs": [
    {
     "data": {
      "text/html": [
       "<div>\n",
       "<style scoped>\n",
       "    .dataframe tbody tr th:only-of-type {\n",
       "        vertical-align: middle;\n",
       "    }\n",
       "\n",
       "    .dataframe tbody tr th {\n",
       "        vertical-align: top;\n",
       "    }\n",
       "\n",
       "    .dataframe thead th {\n",
       "        text-align: right;\n",
       "    }\n",
       "</style>\n",
       "<table border=\"1\" class=\"dataframe\">\n",
       "  <thead>\n",
       "    <tr style=\"text-align: right;\">\n",
       "      <th></th>\n",
       "      <th>engine_displacement</th>\n",
       "      <th>num_cylinders</th>\n",
       "      <th>horsepower</th>\n",
       "      <th>vehicle_weight</th>\n",
       "      <th>acceleration</th>\n",
       "      <th>model_year</th>\n",
       "      <th>origin</th>\n",
       "      <th>fuel_type</th>\n",
       "      <th>drivetrain</th>\n",
       "      <th>num_doors</th>\n",
       "      <th>fuel_efficiency_mpg</th>\n",
       "    </tr>\n",
       "  </thead>\n",
       "  <tbody>\n",
       "    <tr>\n",
       "      <th>4995</th>\n",
       "      <td>150</td>\n",
       "      <td>9.0</td>\n",
       "      <td>151.0</td>\n",
       "      <td>1996.180717</td>\n",
       "      <td>18.0</td>\n",
       "      <td>2002</td>\n",
       "      <td>Europe</td>\n",
       "      <td>Diesel</td>\n",
       "      <td>All-wheel drive</td>\n",
       "      <td>1.0</td>\n",
       "      <td>19.839258</td>\n",
       "    </tr>\n",
       "    <tr>\n",
       "      <th>9349</th>\n",
       "      <td>160</td>\n",
       "      <td>NaN</td>\n",
       "      <td>167.0</td>\n",
       "      <td>3039.401343</td>\n",
       "      <td>12.4</td>\n",
       "      <td>2004</td>\n",
       "      <td>USA</td>\n",
       "      <td>Diesel</td>\n",
       "      <td>Front-wheel drive</td>\n",
       "      <td>-1.0</td>\n",
       "      <td>14.592563</td>\n",
       "    </tr>\n",
       "    <tr>\n",
       "      <th>6582</th>\n",
       "      <td>210</td>\n",
       "      <td>2.0</td>\n",
       "      <td>211.0</td>\n",
       "      <td>2603.789637</td>\n",
       "      <td>15.9</td>\n",
       "      <td>2015</td>\n",
       "      <td>Asia</td>\n",
       "      <td>Diesel</td>\n",
       "      <td>All-wheel drive</td>\n",
       "      <td>1.0</td>\n",
       "      <td>17.663721</td>\n",
       "    </tr>\n",
       "    <tr>\n",
       "      <th>629</th>\n",
       "      <td>150</td>\n",
       "      <td>3.0</td>\n",
       "      <td>144.0</td>\n",
       "      <td>2594.349426</td>\n",
       "      <td>16.4</td>\n",
       "      <td>2018</td>\n",
       "      <td>Europe</td>\n",
       "      <td>Diesel</td>\n",
       "      <td>All-wheel drive</td>\n",
       "      <td>-1.0</td>\n",
       "      <td>16.500613</td>\n",
       "    </tr>\n",
       "    <tr>\n",
       "      <th>1068</th>\n",
       "      <td>190</td>\n",
       "      <td>4.0</td>\n",
       "      <td>182.0</td>\n",
       "      <td>3179.591331</td>\n",
       "      <td>15.6</td>\n",
       "      <td>2018</td>\n",
       "      <td>USA</td>\n",
       "      <td>Diesel</td>\n",
       "      <td>All-wheel drive</td>\n",
       "      <td>0.0</td>\n",
       "      <td>13.926363</td>\n",
       "    </tr>\n",
       "  </tbody>\n",
       "</table>\n",
       "</div>"
      ],
      "text/plain": [
       "      engine_displacement  num_cylinders  horsepower  vehicle_weight  \\\n",
       "4995                  150            9.0       151.0     1996.180717   \n",
       "9349                  160            NaN       167.0     3039.401343   \n",
       "6582                  210            2.0       211.0     2603.789637   \n",
       "629                   150            3.0       144.0     2594.349426   \n",
       "1068                  190            4.0       182.0     3179.591331   \n",
       "\n",
       "      acceleration  model_year  origin fuel_type         drivetrain  \\\n",
       "4995          18.0        2002  Europe    Diesel    All-wheel drive   \n",
       "9349          12.4        2004     USA    Diesel  Front-wheel drive   \n",
       "6582          15.9        2015    Asia    Diesel    All-wheel drive   \n",
       "629           16.4        2018  Europe    Diesel    All-wheel drive   \n",
       "1068          15.6        2018     USA    Diesel    All-wheel drive   \n",
       "\n",
       "      num_doors  fuel_efficiency_mpg  \n",
       "4995        1.0            19.839258  \n",
       "9349       -1.0            14.592563  \n",
       "6582        1.0            17.663721  \n",
       "629        -1.0            16.500613  \n",
       "1068        0.0            13.926363  "
      ]
     },
     "execution_count": 279,
     "metadata": {},
     "output_type": "execute_result"
    }
   ],
   "source": [
    "import numpy as np\n",
    "import pandas as pd\n",
    "\n",
    "data = pd.read_csv('01-intro/car_fuel_efficiency.csv')\n",
    "data.sample(5)"
   ]
  },
  {
   "cell_type": "markdown",
   "id": "2cd11297",
   "metadata": {},
   "source": [
    "## Answers"
   ]
  },
  {
   "cell_type": "markdown",
   "id": "c41dbaf3",
   "metadata": {},
   "source": [
    "### Q1. Pandas version\n",
    "What's the version of Pandas that you installed?"
   ]
  },
  {
   "cell_type": "code",
   "execution_count": 280,
   "id": "1e2932b8",
   "metadata": {},
   "outputs": [
    {
     "data": {
      "text/plain": [
       "'2.3.2'"
      ]
     },
     "execution_count": 280,
     "metadata": {},
     "output_type": "execute_result"
    }
   ],
   "source": [
    "pd.__version__"
   ]
  },
  {
   "cell_type": "markdown",
   "id": "ada74458",
   "metadata": {},
   "source": [
    "### Q2. Records count\n",
    "How many records are in the dataset?"
   ]
  },
  {
   "cell_type": "code",
   "execution_count": 281,
   "id": "eb668531",
   "metadata": {},
   "outputs": [
    {
     "data": {
      "text/plain": [
       "9704"
      ]
     },
     "execution_count": 281,
     "metadata": {},
     "output_type": "execute_result"
    }
   ],
   "source": [
    "# Number of rows in data set\n",
    "data.shape[0]  # tuple is (rows, columns)"
   ]
  },
  {
   "cell_type": "markdown",
   "id": "21864291",
   "metadata": {},
   "source": [
    "### Q3. Fuel types\n",
    "How many fuel types are presented in the dataset?"
   ]
  },
  {
   "cell_type": "code",
   "execution_count": 282,
   "id": "18566f86",
   "metadata": {},
   "outputs": [
    {
     "data": {
      "text/plain": [
       "Index(['engine_displacement', 'num_cylinders', 'horsepower', 'vehicle_weight',\n",
       "       'acceleration', 'model_year', 'origin', 'fuel_type', 'drivetrain',\n",
       "       'num_doors', 'fuel_efficiency_mpg'],\n",
       "      dtype='object')"
      ]
     },
     "execution_count": 282,
     "metadata": {},
     "output_type": "execute_result"
    }
   ],
   "source": [
    "# List column names\n",
    "data.columns"
   ]
  },
  {
   "cell_type": "code",
   "execution_count": 283,
   "id": "56050586",
   "metadata": {},
   "outputs": [
    {
     "name": "stdout",
     "output_type": "stream",
     "text": [
      "['Gasoline' 'Diesel']\n"
     ]
    }
   ],
   "source": [
    "# Visualise the unique 'fuel_type' values\n",
    "print(data['fuel_type'].unique())"
   ]
  },
  {
   "cell_type": "code",
   "execution_count": 284,
   "id": "e12f0ba9",
   "metadata": {},
   "outputs": [
    {
     "data": {
      "text/plain": [
       "2"
      ]
     },
     "execution_count": 284,
     "metadata": {},
     "output_type": "execute_result"
    }
   ],
   "source": [
    "# List the number of unique 'fuel_type' values\n",
    "data['fuel_type'].nunique()"
   ]
  },
  {
   "cell_type": "markdown",
   "id": "0062587a",
   "metadata": {},
   "source": [
    "### Q4. Missing values\n",
    "How many columns in the dataset have missing values?"
   ]
  },
  {
   "cell_type": "code",
   "execution_count": 285,
   "id": "e600162d",
   "metadata": {},
   "outputs": [
    {
     "data": {
      "text/plain": [
       "engine_displacement      0\n",
       "num_cylinders          482\n",
       "horsepower             708\n",
       "vehicle_weight           0\n",
       "acceleration           930\n",
       "model_year               0\n",
       "origin                   0\n",
       "fuel_type                0\n",
       "drivetrain               0\n",
       "num_doors              502\n",
       "fuel_efficiency_mpg      0\n",
       "dtype: int64"
      ]
     },
     "execution_count": 285,
     "metadata": {},
     "output_type": "execute_result"
    }
   ],
   "source": [
    "# Visualise the number of missing values in each column\n",
    "missing_values_sum = data.isnull().sum()\n",
    "missing_values_sum"
   ]
  },
  {
   "cell_type": "code",
   "execution_count": 286,
   "id": "0566b82c",
   "metadata": {},
   "outputs": [
    {
     "name": "stdout",
     "output_type": "stream",
     "text": [
      "4\n"
     ]
    }
   ],
   "source": [
    "# Count of columns with missing values\n",
    "print((missing_values_sum > 0).sum())"
   ]
  },
  {
   "cell_type": "markdown",
   "id": "f6c1d2c3",
   "metadata": {},
   "source": [
    "### Q5. Max fuel efficiency\n",
    "What's the maximum fuel efficiency of cars from Asia?"
   ]
  },
  {
   "cell_type": "code",
   "execution_count": 287,
   "id": "6816c076",
   "metadata": {},
   "outputs": [
    {
     "name": "stdout",
     "output_type": "stream",
     "text": [
      "['Europe' 'USA' 'Asia']\n"
     ]
    }
   ],
   "source": [
    "# Find what unique values are in the 'origin' column\n",
    "print(data['origin'].unique())"
   ]
  },
  {
   "cell_type": "code",
   "execution_count": 288,
   "id": "b53d11fc",
   "metadata": {},
   "outputs": [
    {
     "data": {
      "text/html": [
       "<div>\n",
       "<style scoped>\n",
       "    .dataframe tbody tr th:only-of-type {\n",
       "        vertical-align: middle;\n",
       "    }\n",
       "\n",
       "    .dataframe tbody tr th {\n",
       "        vertical-align: top;\n",
       "    }\n",
       "\n",
       "    .dataframe thead th {\n",
       "        text-align: right;\n",
       "    }\n",
       "</style>\n",
       "<table border=\"1\" class=\"dataframe\">\n",
       "  <thead>\n",
       "    <tr style=\"text-align: right;\">\n",
       "      <th></th>\n",
       "      <th>engine_displacement</th>\n",
       "      <th>num_cylinders</th>\n",
       "      <th>horsepower</th>\n",
       "      <th>vehicle_weight</th>\n",
       "      <th>acceleration</th>\n",
       "      <th>model_year</th>\n",
       "      <th>origin</th>\n",
       "      <th>fuel_type</th>\n",
       "      <th>drivetrain</th>\n",
       "      <th>num_doors</th>\n",
       "      <th>fuel_efficiency_mpg</th>\n",
       "    </tr>\n",
       "  </thead>\n",
       "  <tbody>\n",
       "    <tr>\n",
       "      <th>8</th>\n",
       "      <td>250</td>\n",
       "      <td>1.0</td>\n",
       "      <td>174.0</td>\n",
       "      <td>2714.219310</td>\n",
       "      <td>10.3</td>\n",
       "      <td>2016</td>\n",
       "      <td>Asia</td>\n",
       "      <td>Diesel</td>\n",
       "      <td>Front-wheel drive</td>\n",
       "      <td>-1.0</td>\n",
       "      <td>16.823554</td>\n",
       "    </tr>\n",
       "    <tr>\n",
       "      <th>12</th>\n",
       "      <td>320</td>\n",
       "      <td>5.0</td>\n",
       "      <td>145.0</td>\n",
       "      <td>2783.868974</td>\n",
       "      <td>15.1</td>\n",
       "      <td>2010</td>\n",
       "      <td>Asia</td>\n",
       "      <td>Diesel</td>\n",
       "      <td>All-wheel drive</td>\n",
       "      <td>1.0</td>\n",
       "      <td>16.175820</td>\n",
       "    </tr>\n",
       "    <tr>\n",
       "      <th>14</th>\n",
       "      <td>200</td>\n",
       "      <td>6.0</td>\n",
       "      <td>160.0</td>\n",
       "      <td>3582.687368</td>\n",
       "      <td>14.9</td>\n",
       "      <td>2007</td>\n",
       "      <td>Asia</td>\n",
       "      <td>Diesel</td>\n",
       "      <td>All-wheel drive</td>\n",
       "      <td>0.0</td>\n",
       "      <td>11.871091</td>\n",
       "    </tr>\n",
       "    <tr>\n",
       "      <th>20</th>\n",
       "      <td>150</td>\n",
       "      <td>3.0</td>\n",
       "      <td>197.0</td>\n",
       "      <td>2231.808142</td>\n",
       "      <td>18.7</td>\n",
       "      <td>2011</td>\n",
       "      <td>Asia</td>\n",
       "      <td>Gasoline</td>\n",
       "      <td>Front-wheel drive</td>\n",
       "      <td>1.0</td>\n",
       "      <td>18.889083</td>\n",
       "    </tr>\n",
       "    <tr>\n",
       "      <th>21</th>\n",
       "      <td>160</td>\n",
       "      <td>4.0</td>\n",
       "      <td>133.0</td>\n",
       "      <td>2659.431451</td>\n",
       "      <td>NaN</td>\n",
       "      <td>2016</td>\n",
       "      <td>Asia</td>\n",
       "      <td>Gasoline</td>\n",
       "      <td>Front-wheel drive</td>\n",
       "      <td>-1.0</td>\n",
       "      <td>16.077730</td>\n",
       "    </tr>\n",
       "  </tbody>\n",
       "</table>\n",
       "</div>"
      ],
      "text/plain": [
       "    engine_displacement  num_cylinders  horsepower  vehicle_weight  \\\n",
       "8                   250            1.0       174.0     2714.219310   \n",
       "12                  320            5.0       145.0     2783.868974   \n",
       "14                  200            6.0       160.0     3582.687368   \n",
       "20                  150            3.0       197.0     2231.808142   \n",
       "21                  160            4.0       133.0     2659.431451   \n",
       "\n",
       "    acceleration  model_year origin fuel_type         drivetrain  num_doors  \\\n",
       "8           10.3        2016   Asia    Diesel  Front-wheel drive       -1.0   \n",
       "12          15.1        2010   Asia    Diesel    All-wheel drive        1.0   \n",
       "14          14.9        2007   Asia    Diesel    All-wheel drive        0.0   \n",
       "20          18.7        2011   Asia  Gasoline  Front-wheel drive        1.0   \n",
       "21           NaN        2016   Asia  Gasoline  Front-wheel drive       -1.0   \n",
       "\n",
       "    fuel_efficiency_mpg  \n",
       "8             16.823554  \n",
       "12            16.175820  \n",
       "14            11.871091  \n",
       "20            18.889083  \n",
       "21            16.077730  "
      ]
     },
     "execution_count": 288,
     "metadata": {},
     "output_type": "execute_result"
    }
   ],
   "source": [
    "# Filter the data to show only records from Asia\n",
    "data_asia = data[data['origin'] == 'Asia']\n",
    "data_asia.head(5)"
   ]
  },
  {
   "cell_type": "code",
   "execution_count": 289,
   "id": "03a65ded",
   "metadata": {},
   "outputs": [
    {
     "name": "stdout",
     "output_type": "stream",
     "text": [
      "23.76\n"
     ]
    }
   ],
   "source": [
    "# Print the max fuel efficiency in Asia rounded to 2 decimal places\n",
    "print(data_asia['fuel_efficiency_mpg'].max().round(2))"
   ]
  },
  {
   "cell_type": "code",
   "execution_count": 290,
   "id": "06b450d0",
   "metadata": {},
   "outputs": [
    {
     "name": "stdout",
     "output_type": "stream",
     "text": [
      "23.76\n"
     ]
    }
   ],
   "source": [
    "# Or in one line if you really want to make your peers cry\n",
    "print(data[data['origin'] == 'Asia']['fuel_efficiency_mpg'].max().round(2))"
   ]
  },
  {
   "cell_type": "markdown",
   "id": "995e9eb3",
   "metadata": {},
   "source": [
    "### Q6. Median value of horsepower\n",
    "1. Find the median value of horsepower column in the dataset.\n",
    "1. Next, calculate the most frequent value of the same horsepower column.\n",
    "1. Use fillna method to fill the missing values in horsepower column with the most frequent value from the previous step.\n",
    "1. Now, calculate the median value of horsepower once again."
   ]
  },
  {
   "cell_type": "code",
   "execution_count": 291,
   "id": "9a6e308c",
   "metadata": {},
   "outputs": [
    {
     "data": {
      "text/plain": [
       "0    159.0\n",
       "1     97.0\n",
       "2     78.0\n",
       "3      NaN\n",
       "4    140.0\n",
       "5      NaN\n",
       "6    127.0\n",
       "7    239.0\n",
       "8    174.0\n",
       "9    123.0\n",
       "Name: horsepower, dtype: float64"
      ]
     },
     "execution_count": 291,
     "metadata": {},
     "output_type": "execute_result"
    }
   ],
   "source": [
    "data['horsepower'].head(10)"
   ]
  },
  {
   "cell_type": "code",
   "execution_count": 292,
   "id": "bfd78cae",
   "metadata": {},
   "outputs": [
    {
     "name": "stdout",
     "output_type": "stream",
     "text": [
      "149.0\n"
     ]
    }
   ],
   "source": [
    "# 1. Find the median value of horsepower column in the dataset.\n",
    "median_horsepower = data['horsepower'].median()\n",
    "print(median_horsepower)"
   ]
  },
  {
   "cell_type": "code",
   "execution_count": 293,
   "id": "605f4be7",
   "metadata": {},
   "outputs": [
    {
     "name": "stdout",
     "output_type": "stream",
     "text": [
      "152.0\n"
     ]
    }
   ],
   "source": [
    "# 2. Next, calculate the most frequent value of the same horsepower column.\n",
    "mode_horsepower = data['horsepower'].mode()[0]\n",
    "print(mode_horsepower)"
   ]
  },
  {
   "cell_type": "code",
   "execution_count": 294,
   "id": "953fdcf1",
   "metadata": {},
   "outputs": [
    {
     "name": "stdout",
     "output_type": "stream",
     "text": [
      "missing_horsepower_count: 708\n",
      "missing count after fillna: 0\n"
     ]
    }
   ],
   "source": [
    "# 3. Use fillna method to fill the missing values in horsepower column\n",
    "# with the most frequent value from the previous step.\n",
    "missing_horsepower_count = data['horsepower'].isnull().sum()\n",
    "print(f'missing_horsepower_count: {missing_horsepower_count}')\n",
    "\n",
    "# Fill missing values with the mode (most frequent value)\n",
    "filled_horsepower_series = data['horsepower'].fillna(\n",
    "    mode_horsepower, inplace=False)\n",
    "print(f'missing count after fillna: {filled_horsepower_series.isnull().sum()}')"
   ]
  },
  {
   "cell_type": "code",
   "execution_count": 295,
   "id": "e4ec202b",
   "metadata": {},
   "outputs": [
    {
     "data": {
      "text/plain": [
       "0    159.0\n",
       "1     97.0\n",
       "2     78.0\n",
       "3    152.0\n",
       "4    140.0\n",
       "5    152.0\n",
       "6    127.0\n",
       "7    239.0\n",
       "8    174.0\n",
       "9    123.0\n",
       "Name: horsepower, dtype: float64"
      ]
     },
     "execution_count": 295,
     "metadata": {},
     "output_type": "execute_result"
    }
   ],
   "source": [
    "filled_horsepower_series.head(10)"
   ]
  },
  {
   "cell_type": "code",
   "execution_count": 296,
   "id": "5c7d2bfe",
   "metadata": {},
   "outputs": [
    {
     "name": "stdout",
     "output_type": "stream",
     "text": [
      "152.0\n"
     ]
    }
   ],
   "source": [
    "# 4. Now, calculate the median value of horsepower once again.\n",
    "new_median_horsepower = filled_horsepower_series.median()\n",
    "print(new_median_horsepower)"
   ]
  },
  {
   "cell_type": "code",
   "execution_count": 297,
   "id": "1551bc68",
   "metadata": {},
   "outputs": [
    {
     "name": "stdout",
     "output_type": "stream",
     "text": [
      "Has it changed?\n",
      "Yes, it increased\n"
     ]
    }
   ],
   "source": [
    "print('Has it changed?')\n",
    "\n",
    "\n",
    "if new_median_horsepower > median_horsepower:\n",
    "    print('Yes, it increased')\n",
    "elif new_median_horsepower < median_horsepower:\n",
    "    print('Yes, it decreased')\n",
    "else:\n",
    "    print('No')"
   ]
  },
  {
   "cell_type": "markdown",
   "id": "b99bdfc3",
   "metadata": {},
   "source": [
    "### Q7. Sum of weights\n",
    "1. Select all the cars from Asia\n",
    "1. Select only columns vehicle_weight and model_year\n",
    "1. Select the first 7 values\n",
    "1. Get the underlying NumPy array. Let's call it X.\n",
    "1. Compute matrix-matrix multiplication between the transpose of X and X. To get the transpose, use X.T. Let's call the result XTX.\n",
    "1. Invert XTX.\n",
    "1. Create an array y with values [1100, 1300, 800, 900, 1000, 1100, 1200].\n",
    "1. Multiply the inverse of XTX with the transpose of X, and then multiply the result by y. Call the result w.\n",
    "1. What's the sum of all the elements of the result?"
   ]
  },
  {
   "cell_type": "code",
   "execution_count": 298,
   "id": "8b20eae2",
   "metadata": {},
   "outputs": [],
   "source": [
    "# Select all the cars from Asia\n",
    "data_asia = data[data['origin'] == 'Asia']"
   ]
  },
  {
   "cell_type": "code",
   "execution_count": 299,
   "id": "3ba868fd",
   "metadata": {},
   "outputs": [],
   "source": [
    "# Select only the columns 'vehicle_weight' and 'model_year'\n",
    "data_asia_subset = data_asia[['vehicle_weight', 'model_year']]"
   ]
  },
  {
   "cell_type": "code",
   "execution_count": 300,
   "id": "690dc348",
   "metadata": {},
   "outputs": [],
   "source": [
    "# Select the first 7 values\n",
    "data_asia_subset = data_asia_subset[:7]"
   ]
  },
  {
   "cell_type": "code",
   "execution_count": 301,
   "id": "4898cfcb",
   "metadata": {},
   "outputs": [
    {
     "data": {
      "text/plain": [
       "array([[2714.21930965, 2016.        ],\n",
       "       [2783.86897424, 2010.        ],\n",
       "       [3582.68736772, 2007.        ],\n",
       "       [2231.8081416 , 2011.        ],\n",
       "       [2659.43145076, 2016.        ],\n",
       "       [2844.22753389, 2014.        ],\n",
       "       [3761.99403819, 2019.        ]])"
      ]
     },
     "execution_count": 301,
     "metadata": {},
     "output_type": "execute_result"
    }
   ],
   "source": [
    "# Get the underlying NumPy array. Let's call it X.\n",
    "X = data_asia_subset.to_numpy()\n",
    "X"
   ]
  },
  {
   "cell_type": "code",
   "execution_count": 302,
   "id": "ff362d88",
   "metadata": {},
   "outputs": [
    {
     "data": {
      "text/plain": [
       "array([[62248334.33150762, 41431216.5073268 ],\n",
       "       [41431216.5073268 , 28373339.        ]])"
      ]
     },
     "execution_count": 302,
     "metadata": {},
     "output_type": "execute_result"
    }
   ],
   "source": [
    "# Compute matrix-matrix multiplication between the transpose of X and X.\n",
    "# To get the transpose, use X.T. Let's call the result XTX.\n",
    "X_transpose = X.T\n",
    "XTX = X_transpose.dot(X)\n",
    "XTX"
   ]
  },
  {
   "cell_type": "code",
   "execution_count": 303,
   "id": "a819fb4a",
   "metadata": {},
   "outputs": [
    {
     "data": {
      "text/plain": [
       "array([[ 5.71497081e-07, -8.34509443e-07],\n",
       "       [-8.34509443e-07,  1.25380877e-06]])"
      ]
     },
     "execution_count": 303,
     "metadata": {},
     "output_type": "execute_result"
    }
   ],
   "source": [
    "# Invert XTX\n",
    "XTX_inv = np.linalg.inv(XTX)\n",
    "XTX_inv"
   ]
  },
  {
   "cell_type": "code",
   "execution_count": 304,
   "id": "641e49c5",
   "metadata": {},
   "outputs": [],
   "source": [
    "# Create an array 'y' with values [1100, 1300, 800, 900, 1000, 1100, 1200].\n",
    "y = np.array([1100, 1300, 800, 900, 1000, 1100, 1200])"
   ]
  },
  {
   "cell_type": "code",
   "execution_count": 305,
   "id": "4e612a90",
   "metadata": {},
   "outputs": [
    {
     "data": {
      "text/plain": [
       "array([0.01386421, 0.5049067 ])"
      ]
     },
     "execution_count": 305,
     "metadata": {},
     "output_type": "execute_result"
    }
   ],
   "source": [
    "# Multiply the inverse of XTX with the transpose of X, and then with y. Call the result 'w'.\n",
    "w = XTX_inv.dot(X_transpose).dot(y)\n",
    "w"
   ]
  },
  {
   "cell_type": "code",
   "execution_count": 306,
   "id": "6c6b958a",
   "metadata": {},
   "outputs": [
    {
     "name": "stdout",
     "output_type": "stream",
     "text": [
      "0.519\n"
     ]
    }
   ],
   "source": [
    "# What's the sum of all the elements of the result?\n",
    "print(w.sum().round(3))"
   ]
  }
 ],
 "metadata": {
  "kernelspec": {
   "display_name": "Python 3 (ipykernel)",
   "language": "python",
   "name": "python3"
  },
  "language_info": {
   "codemirror_mode": {
    "name": "ipython",
    "version": 3
   },
   "file_extension": ".py",
   "mimetype": "text/x-python",
   "name": "python",
   "nbconvert_exporter": "python",
   "pygments_lexer": "ipython3",
   "version": "3.11.13"
  }
 },
 "nbformat": 4,
 "nbformat_minor": 5
}
