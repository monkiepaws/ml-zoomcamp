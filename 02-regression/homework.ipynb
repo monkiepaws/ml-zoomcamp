{
 "cells": [
  {
   "cell_type": "markdown",
   "id": "678074c1",
   "metadata": {},
   "source": [
    "# Homework 02"
   ]
  },
  {
   "cell_type": "markdown",
   "id": "b98bcd95",
   "metadata": {},
   "source": [
    "## Setup"
   ]
  },
  {
   "cell_type": "markdown",
   "id": "192dfbef",
   "metadata": {},
   "source": [
    "### Imports"
   ]
  },
  {
   "cell_type": "code",
   "execution_count": 45,
   "id": "02927d02",
   "metadata": {},
   "outputs": [],
   "source": [
    "import numpy as np\n",
    "import pandas as pd\n",
    "import matplotlib.pyplot as plt\n",
    "import seaborn as sns\n",
    "\n",
    "%matplotlib inline"
   ]
  },
  {
   "cell_type": "markdown",
   "id": "57d03965",
   "metadata": {},
   "source": [
    "### Load the data set"
   ]
  },
  {
   "cell_type": "code",
   "execution_count": 46,
   "id": "cd0f8f12",
   "metadata": {},
   "outputs": [
    {
     "name": "stdout",
     "output_type": "stream",
     "text": [
      "dataframe shape: (9704, 11)\n"
     ]
    },
    {
     "data": {
      "text/html": [
       "<div>\n",
       "<style scoped>\n",
       "    .dataframe tbody tr th:only-of-type {\n",
       "        vertical-align: middle;\n",
       "    }\n",
       "\n",
       "    .dataframe tbody tr th {\n",
       "        vertical-align: top;\n",
       "    }\n",
       "\n",
       "    .dataframe thead th {\n",
       "        text-align: right;\n",
       "    }\n",
       "</style>\n",
       "<table border=\"1\" class=\"dataframe\">\n",
       "  <thead>\n",
       "    <tr style=\"text-align: right;\">\n",
       "      <th></th>\n",
       "      <th>engine_displacement</th>\n",
       "      <th>num_cylinders</th>\n",
       "      <th>horsepower</th>\n",
       "      <th>vehicle_weight</th>\n",
       "      <th>acceleration</th>\n",
       "      <th>model_year</th>\n",
       "      <th>origin</th>\n",
       "      <th>fuel_type</th>\n",
       "      <th>drivetrain</th>\n",
       "      <th>num_doors</th>\n",
       "      <th>fuel_efficiency_mpg</th>\n",
       "    </tr>\n",
       "  </thead>\n",
       "  <tbody>\n",
       "    <tr>\n",
       "      <th>1471</th>\n",
       "      <td>320</td>\n",
       "      <td>1.0</td>\n",
       "      <td>127.0</td>\n",
       "      <td>3023.949947</td>\n",
       "      <td>15.3</td>\n",
       "      <td>2023</td>\n",
       "      <td>USA</td>\n",
       "      <td>Diesel</td>\n",
       "      <td>All-wheel drive</td>\n",
       "      <td>-2.0</td>\n",
       "      <td>14.813314</td>\n",
       "    </tr>\n",
       "    <tr>\n",
       "      <th>6077</th>\n",
       "      <td>180</td>\n",
       "      <td>4.0</td>\n",
       "      <td>113.0</td>\n",
       "      <td>3532.682372</td>\n",
       "      <td>17.8</td>\n",
       "      <td>2008</td>\n",
       "      <td>Europe</td>\n",
       "      <td>Gasoline</td>\n",
       "      <td>Front-wheel drive</td>\n",
       "      <td>0.0</td>\n",
       "      <td>11.684447</td>\n",
       "    </tr>\n",
       "    <tr>\n",
       "      <th>3286</th>\n",
       "      <td>130</td>\n",
       "      <td>7.0</td>\n",
       "      <td>127.0</td>\n",
       "      <td>3374.774992</td>\n",
       "      <td>13.8</td>\n",
       "      <td>2003</td>\n",
       "      <td>Europe</td>\n",
       "      <td>Gasoline</td>\n",
       "      <td>Front-wheel drive</td>\n",
       "      <td>1.0</td>\n",
       "      <td>12.997800</td>\n",
       "    </tr>\n",
       "    <tr>\n",
       "      <th>7540</th>\n",
       "      <td>190</td>\n",
       "      <td>7.0</td>\n",
       "      <td>145.0</td>\n",
       "      <td>2562.978214</td>\n",
       "      <td>15.0</td>\n",
       "      <td>2009</td>\n",
       "      <td>Europe</td>\n",
       "      <td>Gasoline</td>\n",
       "      <td>Front-wheel drive</td>\n",
       "      <td>1.0</td>\n",
       "      <td>17.027072</td>\n",
       "    </tr>\n",
       "    <tr>\n",
       "      <th>4340</th>\n",
       "      <td>210</td>\n",
       "      <td>1.0</td>\n",
       "      <td>176.0</td>\n",
       "      <td>2486.253478</td>\n",
       "      <td>14.4</td>\n",
       "      <td>2008</td>\n",
       "      <td>Europe</td>\n",
       "      <td>Gasoline</td>\n",
       "      <td>All-wheel drive</td>\n",
       "      <td>0.0</td>\n",
       "      <td>17.929680</td>\n",
       "    </tr>\n",
       "  </tbody>\n",
       "</table>\n",
       "</div>"
      ],
      "text/plain": [
       "      engine_displacement  num_cylinders  horsepower  vehicle_weight  \\\n",
       "1471                  320            1.0       127.0     3023.949947   \n",
       "6077                  180            4.0       113.0     3532.682372   \n",
       "3286                  130            7.0       127.0     3374.774992   \n",
       "7540                  190            7.0       145.0     2562.978214   \n",
       "4340                  210            1.0       176.0     2486.253478   \n",
       "\n",
       "      acceleration  model_year  origin fuel_type         drivetrain  \\\n",
       "1471          15.3        2023     USA    Diesel    All-wheel drive   \n",
       "6077          17.8        2008  Europe  Gasoline  Front-wheel drive   \n",
       "3286          13.8        2003  Europe  Gasoline  Front-wheel drive   \n",
       "7540          15.0        2009  Europe  Gasoline  Front-wheel drive   \n",
       "4340          14.4        2008  Europe  Gasoline    All-wheel drive   \n",
       "\n",
       "      num_doors  fuel_efficiency_mpg  \n",
       "1471       -2.0            14.813314  \n",
       "6077        0.0            11.684447  \n",
       "3286        1.0            12.997800  \n",
       "7540        1.0            17.027072  \n",
       "4340        0.0            17.929680  "
      ]
     },
     "execution_count": 46,
     "metadata": {},
     "output_type": "execute_result"
    }
   ],
   "source": [
    "# Load the data set from ./02-regression/car_fuel_efficiency.csv\n",
    "df = pd.read_csv('./02-regression/car_fuel_efficiency.csv')\n",
    "print(f'dataframe shape: {df.shape}')\n",
    "df.sample(5)"
   ]
  },
  {
   "cell_type": "markdown",
   "id": "ff73253f",
   "metadata": {},
   "source": [
    "## Preparing the dataset\n",
    "Use only the following columns:\n",
    "\n",
    "- 'engine_displacement',\n",
    "- 'horsepower',\n",
    "- 'vehicle_weight',\n",
    "- 'model_year',\n",
    "- 'fuel_efficiency_mpg'"
   ]
  },
  {
   "cell_type": "code",
   "execution_count": 47,
   "id": "44500882",
   "metadata": {},
   "outputs": [
    {
     "data": {
      "text/html": [
       "<div>\n",
       "<style scoped>\n",
       "    .dataframe tbody tr th:only-of-type {\n",
       "        vertical-align: middle;\n",
       "    }\n",
       "\n",
       "    .dataframe tbody tr th {\n",
       "        vertical-align: top;\n",
       "    }\n",
       "\n",
       "    .dataframe thead th {\n",
       "        text-align: right;\n",
       "    }\n",
       "</style>\n",
       "<table border=\"1\" class=\"dataframe\">\n",
       "  <thead>\n",
       "    <tr style=\"text-align: right;\">\n",
       "      <th></th>\n",
       "      <th>engine_displacement</th>\n",
       "      <th>horsepower</th>\n",
       "      <th>vehicle_weight</th>\n",
       "      <th>model_year</th>\n",
       "      <th>fuel_efficiency_mpg</th>\n",
       "    </tr>\n",
       "  </thead>\n",
       "  <tbody>\n",
       "    <tr>\n",
       "      <th>0</th>\n",
       "      <td>170</td>\n",
       "      <td>159.0</td>\n",
       "      <td>3413.433759</td>\n",
       "      <td>2003</td>\n",
       "      <td>13.231729</td>\n",
       "    </tr>\n",
       "    <tr>\n",
       "      <th>1</th>\n",
       "      <td>130</td>\n",
       "      <td>97.0</td>\n",
       "      <td>3149.664934</td>\n",
       "      <td>2007</td>\n",
       "      <td>13.688217</td>\n",
       "    </tr>\n",
       "    <tr>\n",
       "      <th>2</th>\n",
       "      <td>170</td>\n",
       "      <td>78.0</td>\n",
       "      <td>3079.038997</td>\n",
       "      <td>2018</td>\n",
       "      <td>14.246341</td>\n",
       "    </tr>\n",
       "    <tr>\n",
       "      <th>3</th>\n",
       "      <td>220</td>\n",
       "      <td>NaN</td>\n",
       "      <td>2542.392402</td>\n",
       "      <td>2009</td>\n",
       "      <td>16.912736</td>\n",
       "    </tr>\n",
       "    <tr>\n",
       "      <th>4</th>\n",
       "      <td>210</td>\n",
       "      <td>140.0</td>\n",
       "      <td>3460.870990</td>\n",
       "      <td>2009</td>\n",
       "      <td>12.488369</td>\n",
       "    </tr>\n",
       "  </tbody>\n",
       "</table>\n",
       "</div>"
      ],
      "text/plain": [
       "   engine_displacement  horsepower  vehicle_weight  model_year  \\\n",
       "0                  170       159.0     3413.433759        2003   \n",
       "1                  130        97.0     3149.664934        2007   \n",
       "2                  170        78.0     3079.038997        2018   \n",
       "3                  220         NaN     2542.392402        2009   \n",
       "4                  210       140.0     3460.870990        2009   \n",
       "\n",
       "   fuel_efficiency_mpg  \n",
       "0            13.231729  \n",
       "1            13.688217  \n",
       "2            14.246341  \n",
       "3            16.912736  \n",
       "4            12.488369  "
      ]
     },
     "execution_count": 47,
     "metadata": {},
     "output_type": "execute_result"
    }
   ],
   "source": [
    "base_cols = [\n",
    "    'engine_displacement',\n",
    "    'horsepower',\n",
    "    'vehicle_weight',\n",
    "    'model_year',\n",
    "    'fuel_efficiency_mpg'\n",
    "]\n",
    "df = df[base_cols]\n",
    "df.head()"
   ]
  },
  {
   "cell_type": "markdown",
   "id": "64de9310",
   "metadata": {},
   "source": [
    "## Exploratory data analysis\n",
    "\n",
    "- Look at the fuel_efficiency_mpg variable. Does it have a long tail?"
   ]
  },
  {
   "cell_type": "code",
   "execution_count": 48,
   "id": "2fddf33e",
   "metadata": {},
   "outputs": [
    {
     "data": {
      "text/plain": [
       "<Axes: xlabel='fuel_efficiency_mpg', ylabel='Count'>"
      ]
     },
     "execution_count": 48,
     "metadata": {},
     "output_type": "execute_result"
    },
    {
     "data": {
      "image/png": "[encoded data removed]",
      "text/plain": [
       "<Figure size 640x480 with 1 Axes>"
      ]
     },
     "metadata": {},
     "output_type": "display_data"
    }
   ],
   "source": [
    "sns.histplot(df['fuel_efficiency_mpg'], bins=50)"
   ]
  },
  {
   "cell_type": "markdown",
   "id": "ae8ad940",
   "metadata": {},
   "source": [
    "Seems to be normally distributed. So no, it does not have a long tail."
   ]
  },
  {
   "cell_type": "markdown",
   "id": "725d793f",
   "metadata": {},
   "source": [
    "## Answers"
   ]
  },
  {
   "cell_type": "markdown",
   "id": "c9787439",
   "metadata": {},
   "source": [
    "### Question 1\n",
    "\n",
    "There's one column with missing values. What is it?\n",
    "\n",
    "- 'engine_displacement'\n",
    "- 'horsepower'\n",
    "- 'vehicle_weight'\n",
    "- 'model_year'"
   ]
  },
  {
   "cell_type": "code",
   "execution_count": 49,
   "id": "5da193f4",
   "metadata": {},
   "outputs": [
    {
     "data": {
      "text/plain": [
       "['horsepower']"
      ]
     },
     "execution_count": 49,
     "metadata": {},
     "output_type": "execute_result"
    }
   ],
   "source": [
    "# Print only the column names with missing values\n",
    "isnulls = df.isnull().sum()\n",
    "isnulls[isnulls > 0].index.tolist()"
   ]
  },
  {
   "cell_type": "markdown",
   "id": "27d7c91c",
   "metadata": {},
   "source": [
    "### Question 2\n",
    "\n",
    "What's the median (50% percentile) for variable 'horsepower'?"
   ]
  },
  {
   "cell_type": "code",
   "execution_count": 50,
   "id": "e700a1ca",
   "metadata": {},
   "outputs": [
    {
     "name": "stdout",
     "output_type": "stream",
     "text": [
      "Median horsepower: 149.0\n"
     ]
    }
   ],
   "source": [
    "hp_median = df.horsepower.median()\n",
    "print(f'Median horsepower: {hp_median}')"
   ]
  },
  {
   "cell_type": "markdown",
   "id": "916acc15",
   "metadata": {},
   "source": [
    "### Question 3\n",
    "\n",
    "- Shuffle the dataset (the filtered one you created above), use seed 42.\n",
    "- Split your data in train/val/test sets, with 60%/20%/20% distribution.\n",
    "\n",
    "Use the same code as in the lectures"
   ]
  },
  {
   "cell_type": "markdown",
   "id": "566d4ff6",
   "metadata": {},
   "source": [
    "#### Prepare to split the dataset"
   ]
  },
  {
   "cell_type": "code",
   "execution_count": 51,
   "id": "4119b091",
   "metadata": {},
   "outputs": [
    {
     "name": "stdout",
     "output_type": "stream",
     "text": [
      "Number of records: 9704\n",
      "20% of total records: 1940.8000000000002\n",
      "\n",
      "Training set size: 5824\n",
      "Validation set size: 1940\n",
      "Test set size: 1940\n",
      "\n",
      "Total: 9704\n"
     ]
    }
   ],
   "source": [
    "# Number of records in the dataset\n",
    "n = len(df)\n",
    "print(f\"Number of records: {n}\")\n",
    "\n",
    "# 20% of the total number of records\n",
    "print(f\"20% of total records: {n * 0.2}\\n\")\n",
    "\n",
    "# Calculate size of each data set split\n",
    "n_val = int(n * 0.2)\n",
    "n_test = int(n * 0.2)\n",
    "n_train = n - n_val - n_test\n",
    "print(f\"Training set size: {n_train}\")\n",
    "print(f\"Validation set size: {n_val}\")\n",
    "print(f\"Test set size: {n_test}\")\n",
    "print(f\"\\nTotal: {n_train + n_val + n_test}\")"
   ]
  },
  {
   "cell_type": "code",
   "execution_count": 52,
   "id": "96b00b85",
   "metadata": {},
   "outputs": [],
   "source": [
    "def shuffle_df(df, seed=42):\n",
    "    \"\"\"\"\"\"\n",
    "    # We need to shuffle the data frame so that the split sets are randomly selected\n",
    "    # First create a range of numbers from 0 to n-1\n",
    "    idx = np.arange(n)\n",
    "    np.random.seed(seed)  # Set the random seed for reproducibility\n",
    "    np.random.shuffle(idx)  # Shuffle the indices\n",
    "\n",
    "    idx[:5]\n",
    "\n",
    "    # Create the sub sets\n",
    "    df_train = df.iloc[idx[:n_train]]\n",
    "    df_val = df.iloc[idx[n_train:n_train + n_val]]\n",
    "    df_test = df.iloc[idx[n_train + n_val:]]\n",
    "\n",
    "    # Reset the indices as we don't need the original indices anymore\n",
    "    df_train = df_train.reset_index(drop=True)\n",
    "    df_val = df_val.reset_index(drop=True)\n",
    "    df_test = df_test.reset_index(drop=True)\n",
    "\n",
    "    return (df_train, df_val, df_test)"
   ]
  },
  {
   "cell_type": "code",
   "execution_count": 53,
   "id": "97c0372f",
   "metadata": {},
   "outputs": [
    {
     "data": {
      "text/html": [
       "<div>\n",
       "<style scoped>\n",
       "    .dataframe tbody tr th:only-of-type {\n",
       "        vertical-align: middle;\n",
       "    }\n",
       "\n",
       "    .dataframe tbody tr th {\n",
       "        vertical-align: top;\n",
       "    }\n",
       "\n",
       "    .dataframe thead th {\n",
       "        text-align: right;\n",
       "    }\n",
       "</style>\n",
       "<table border=\"1\" class=\"dataframe\">\n",
       "  <thead>\n",
       "    <tr style=\"text-align: right;\">\n",
       "      <th></th>\n",
       "      <th>engine_displacement</th>\n",
       "      <th>horsepower</th>\n",
       "      <th>vehicle_weight</th>\n",
       "      <th>model_year</th>\n",
       "      <th>fuel_efficiency_mpg</th>\n",
       "    </tr>\n",
       "  </thead>\n",
       "  <tbody>\n",
       "    <tr>\n",
       "      <th>0</th>\n",
       "      <td>220</td>\n",
       "      <td>144.0</td>\n",
       "      <td>2535.887591</td>\n",
       "      <td>2009</td>\n",
       "      <td>16.642943</td>\n",
       "    </tr>\n",
       "    <tr>\n",
       "      <th>1</th>\n",
       "      <td>160</td>\n",
       "      <td>141.0</td>\n",
       "      <td>2741.170484</td>\n",
       "      <td>2019</td>\n",
       "      <td>16.298377</td>\n",
       "    </tr>\n",
       "    <tr>\n",
       "      <th>2</th>\n",
       "      <td>230</td>\n",
       "      <td>155.0</td>\n",
       "      <td>2471.880237</td>\n",
       "      <td>2017</td>\n",
       "      <td>18.591822</td>\n",
       "    </tr>\n",
       "    <tr>\n",
       "      <th>3</th>\n",
       "      <td>150</td>\n",
       "      <td>206.0</td>\n",
       "      <td>3748.164469</td>\n",
       "      <td>2015</td>\n",
       "      <td>11.818843</td>\n",
       "    </tr>\n",
       "    <tr>\n",
       "      <th>4</th>\n",
       "      <td>300</td>\n",
       "      <td>111.0</td>\n",
       "      <td>2135.716359</td>\n",
       "      <td>2006</td>\n",
       "      <td>19.402209</td>\n",
       "    </tr>\n",
       "    <tr>\n",
       "      <th>5</th>\n",
       "      <td>180</td>\n",
       "      <td>120.0</td>\n",
       "      <td>3551.398040</td>\n",
       "      <td>2013</td>\n",
       "      <td>12.145734</td>\n",
       "    </tr>\n",
       "    <tr>\n",
       "      <th>6</th>\n",
       "      <td>210</td>\n",
       "      <td>118.0</td>\n",
       "      <td>3620.351977</td>\n",
       "      <td>2018</td>\n",
       "      <td>11.378399</td>\n",
       "    </tr>\n",
       "    <tr>\n",
       "      <th>7</th>\n",
       "      <td>150</td>\n",
       "      <td>152.0</td>\n",
       "      <td>2524.407794</td>\n",
       "      <td>2012</td>\n",
       "      <td>16.667294</td>\n",
       "    </tr>\n",
       "  </tbody>\n",
       "</table>\n",
       "</div>"
      ],
      "text/plain": [
       "   engine_displacement  horsepower  vehicle_weight  model_year  \\\n",
       "0                  220       144.0     2535.887591        2009   \n",
       "1                  160       141.0     2741.170484        2019   \n",
       "2                  230       155.0     2471.880237        2017   \n",
       "3                  150       206.0     3748.164469        2015   \n",
       "4                  300       111.0     2135.716359        2006   \n",
       "5                  180       120.0     3551.398040        2013   \n",
       "6                  210       118.0     3620.351977        2018   \n",
       "7                  150       152.0     2524.407794        2012   \n",
       "\n",
       "   fuel_efficiency_mpg  \n",
       "0            16.642943  \n",
       "1            16.298377  \n",
       "2            18.591822  \n",
       "3            11.818843  \n",
       "4            19.402209  \n",
       "5            12.145734  \n",
       "6            11.378399  \n",
       "7            16.667294  "
      ]
     },
     "execution_count": 53,
     "metadata": {},
     "output_type": "execute_result"
    }
   ],
   "source": [
    "(df_train, df_val, df_test) = shuffle_df(df, 42)\n",
    "df_train.head(8)"
   ]
  },
  {
   "cell_type": "code",
   "execution_count": 54,
   "id": "c0a5ae2b",
   "metadata": {},
   "outputs": [
    {
     "data": {
      "text/plain": [
       "(5824, 1940, 1940, 9704)"
      ]
     },
     "execution_count": 54,
     "metadata": {},
     "output_type": "execute_result"
    }
   ],
   "source": [
    "# Check the lengths of each data set\n",
    "assert n_train == len(df_train)  # Training set\n",
    "assert n_val == len(df_val)  # Validation set\n",
    "assert n_test == len(df_test)  # Test set\n",
    "assert n == len(df_train) + len(df_val) + len(df_test)  # Total records\n",
    "assert (n_train, n_val, n_test) == (len(df_train),\n",
    "                                    len(df_val), len(df_test))  # Sizes match\n",
    "\n",
    "len(df_train), len(df_val), len(df_test), len(\n",
    "    df_train) + len(df_val) + len(df_test)"
   ]
  },
  {
   "cell_type": "markdown",
   "id": "57d57da5",
   "metadata": {},
   "source": [
    "#### Q3 working out\n",
    "\n",
    "- We need to deal with missing values for the column from Q1.\n",
    "- We have two options: fill it with 0 or with the mean of this variable.\n",
    "- Try both options. For each, train a linear regression model without regularization using the code from the lessons.\n",
    "- For computing the mean, use the training only!\n",
    "- Use the validation dataset to evaluate the models and compare the RMSE of each option.\n",
    "- Round the RMSE scores to 2 decimal digits using round(score, 2)\n",
    "- Which option gives better RMSE?"
   ]
  },
  {
   "cell_type": "code",
   "execution_count": 55,
   "id": "dce73c66",
   "metadata": {},
   "outputs": [],
   "source": [
    "# Feature columns\n",
    "feature_cols = [\n",
    "    'engine_displacement',\n",
    "    'horsepower',\n",
    "    'vehicle_weight',\n",
    "    'model_year'\n",
    "]\n",
    "\n",
    "\n",
    "def get_target_vals(df_train, df_val, df_test):\n",
    "    \"\"\"\"\"\"\n",
    "    # Target values\n",
    "    y_train = df_train.fuel_efficiency_mpg.values\n",
    "\n",
    "    # Target values for validation set\n",
    "    y_val = df_val.fuel_efficiency_mpg.values\n",
    "\n",
    "    # Target values for testing set\n",
    "    y_test = df_test.fuel_efficiency_mpg.values\n",
    "\n",
    "    return (y_train, y_val, y_test)\n",
    "\n",
    "\n",
    "# We will use these simpler functions for this exercise.\n",
    "def train_linear_regression(X, y):\n",
    "    \"\"\"Train linear regression model using the Normal Equation.\"\"\"\n",
    "    ones = np.ones(X.shape[0])\n",
    "    X = np.column_stack([ones, X])  # add bias column of ones\n",
    "    XTX = X.T.dot(X)  # Gram matrix\n",
    "    XTX_inv = np.linalg.inv(XTX)  # inverse of Gram matrix\n",
    "    w_full = XTX_inv.dot(X.T).dot(y)  # weights including bias\n",
    "\n",
    "    return w_full[0], w_full[1:]  # return bias and weights\n",
    "\n",
    "\n",
    "def rmse(y, y_pred):\n",
    "    \"\"\"Calculate Root Mean Squared Error.\"\"\"\n",
    "    se = (y - y_pred) ** 2  # squared errors\n",
    "    mse = se.mean()  # mean squared error\n",
    "    return np.sqrt(mse)  # root mean squared error\n",
    "\n",
    "\n",
    "def prepare_X(df, fillna=0):\n",
    "    \"\"\"Prepare feature matrix from dataframe.\"\"\"\n",
    "    df_num = df[feature_cols]\n",
    "    df_num = df_num.fillna(fillna)\n",
    "    X = df_num.values\n",
    "    return X"
   ]
  },
  {
   "cell_type": "markdown",
   "id": "96f897ab",
   "metadata": {},
   "source": [
    "##### Fill missing 'horsepower' values using 0"
   ]
  },
  {
   "cell_type": "code",
   "execution_count": 56,
   "id": "207a3d36",
   "metadata": {},
   "outputs": [
    {
     "data": {
      "text/plain": [
       "np.float64(0.52)"
      ]
     },
     "execution_count": 56,
     "metadata": {},
     "output_type": "execute_result"
    }
   ],
   "source": [
    "(y_train, y_val, _) = get_target_vals(\n",
    "    df_train=df_train, df_val=df_val, df_test=df_test)\n",
    "\n",
    "# Prepare the feature matrix for training data\n",
    "X_train = prepare_X(df_train, fillna=0)\n",
    "(w0, w) = train_linear_regression(X_train, y_train)\n",
    "\n",
    "X_val = prepare_X(df_val, fillna=0)\n",
    "y_pred = w0 + X_val.dot(w)\n",
    "\n",
    "rmse(y_val, y_pred).round(2)"
   ]
  },
  {
   "cell_type": "code",
   "execution_count": 57,
   "id": "c2e761e8",
   "metadata": {},
   "outputs": [
    {
     "data": {
      "text/plain": [
       "<Axes: ylabel='Count'>"
      ]
     },
     "execution_count": 57,
     "metadata": {},
     "output_type": "execute_result"
    },
    {
     "data": {
      "image/png": "[encoded data removed]",
      "text/plain": [
       "<Figure size 640x480 with 1 Axes>"
      ]
     },
     "metadata": {},
     "output_type": "display_data"
    }
   ],
   "source": [
    "# Plot true vs predicted values\n",
    "sns.histplot(y_pred, color='red', bins=50)\n",
    "sns.histplot(y_train, color='blue', alpha=0.5, bins=50)"
   ]
  },
  {
   "cell_type": "markdown",
   "id": "c5df88fe",
   "metadata": {},
   "source": [
    "#### Fill missing 'horsepower' values using mean of training set"
   ]
  },
  {
   "cell_type": "code",
   "execution_count": 58,
   "id": "e12afbe8",
   "metadata": {},
   "outputs": [
    {
     "name": "stdout",
     "output_type": "stream",
     "text": [
      "Horsepower mean: 150.0\n"
     ]
    }
   ],
   "source": [
    "hp_mean = df.horsepower.mean().round(0)\n",
    "print(f'Horsepower mean: {hp_mean}')"
   ]
  },
  {
   "cell_type": "code",
   "execution_count": 59,
   "id": "41b4e847",
   "metadata": {},
   "outputs": [
    {
     "data": {
      "text/plain": [
       "np.float64(0.61)"
      ]
     },
     "execution_count": 59,
     "metadata": {},
     "output_type": "execute_result"
    }
   ],
   "source": [
    "# Get target values\n",
    "(y_train, y_val, _) = get_target_vals(\n",
    "    df_train=df_train, df_val=df_val, df_test=df_test)\n",
    "\n",
    "# Prepare the feature matrix for training data\n",
    "X_train = prepare_X(df_train, fillna=hp_mean)\n",
    "(w0, w) = train_linear_regression(X_train, y_train)\n",
    "\n",
    "X_val = prepare_X(df_val)\n",
    "y_pred = w0 + X_val.dot(w)\n",
    "\n",
    "rmse(y_val, y_pred).round(2)"
   ]
  },
  {
   "cell_type": "code",
   "execution_count": 60,
   "id": "077e543d",
   "metadata": {},
   "outputs": [
    {
     "data": {
      "text/plain": [
       "<Axes: ylabel='Count'>"
      ]
     },
     "execution_count": 60,
     "metadata": {},
     "output_type": "execute_result"
    },
    {
     "data": {
      "image/png": "[encoded data removed]",
      "text/plain": [
       "<Figure size 640x480 with 1 Axes>"
      ]
     },
     "metadata": {},
     "output_type": "display_data"
    }
   ],
   "source": [
    "# Plot true vs predicted values\n",
    "sns.histplot(y_pred, color='red', bins=50)\n",
    "sns.histplot(y_train, color='blue', alpha=0.5, bins=50)"
   ]
  },
  {
   "cell_type": "markdown",
   "id": "4217e86a",
   "metadata": {},
   "source": [
    "Filling missing horsepower values with 0 had a better RMSE by ~0.09"
   ]
  },
  {
   "cell_type": "markdown",
   "id": "f62113aa",
   "metadata": {},
   "source": [
    "### Question 4\n",
    "\n",
    "- Now let's train a regularized linear regression.\n",
    "- For this question, fill the NAs with 0.\n",
    "- Try different values of r from this list: [0, 0.01, 0.1, 1, 5, 10, 100].\n",
    "- Use RMSE to evaluate the model on the validation dataset.\n",
    "- Round the RMSE scores to 2 decimal digits.\n",
    "- Which r gives the best RMSE?\n",
    "- - If there are multiple options, select the smallest r."
   ]
  },
  {
   "cell_type": "code",
   "execution_count": 61,
   "id": "05e70db2",
   "metadata": {},
   "outputs": [],
   "source": [
    "def train_linear_regression_reg(X, y, r=0.001):\n",
    "    \"\"\"Train linear regression model using the Normal Equation.\"\"\"\n",
    "    ones = np.ones(X.shape[0])\n",
    "    X = np.column_stack([ones, X])  # add bias column of ones\n",
    "    XTX = X.T.dot(X)  # Gram matrix\n",
    "\n",
    "    # add regularization to the diagonal\n",
    "    XTX = XTX + r * np.eye(XTX.shape[0])\n",
    "\n",
    "    XTX_inv = np.linalg.inv(XTX)  # inverse of Gram matrix\n",
    "    w_full = XTX_inv.dot(X.T).dot(y)  # weights including bias\n",
    "\n",
    "    return w_full[0], w_full[1:]  # return bias and weights"
   ]
  },
  {
   "cell_type": "code",
   "execution_count": 62,
   "id": "8ed499fa",
   "metadata": {},
   "outputs": [
    {
     "name": "stdout",
     "output_type": "stream",
     "text": [
      "For r=0, RMSE=0.52\n",
      "For r=0.01, RMSE=0.52\n",
      "For r=0.1, RMSE=0.52\n",
      "For r=1, RMSE=0.52\n",
      "For r=5, RMSE=0.52\n",
      "For r=10, RMSE=0.52\n",
      "For r=100, RMSE=0.52\n"
     ]
    }
   ],
   "source": [
    "rs = [0, 0.01, 0.1, 1, 5, 10, 100]\n",
    "\n",
    "# Get target values\n",
    "(y_train, y_val, _) = get_target_vals(\n",
    "    df_train=df_train, df_val=df_val, df_test=df_test)\n",
    "\n",
    "for r in rs:\n",
    "    # Prepare the feature matrix for training data\n",
    "    X_train = prepare_X(df_train, fillna=0)\n",
    "    (w0, w) = train_linear_regression_reg(X_train, y_train, r)\n",
    "\n",
    "    X_val = prepare_X(df_val)\n",
    "    y_pred = w0 + X_val.dot(w)\n",
    "\n",
    "    score = rmse(y_val, y_pred).round(2)\n",
    "    print(f'For r={r}, RMSE={score}')"
   ]
  },
  {
   "cell_type": "markdown",
   "id": "eaec50d9",
   "metadata": {},
   "source": [
    "So the smallest r when rounded is 0. (without rounding it is 0.01)"
   ]
  },
  {
   "cell_type": "markdown",
   "id": "0fd4543a",
   "metadata": {},
   "source": [
    "### Question 5\n",
    "\n",
    "We used seed 42 for splitting the data. Let's find out how selecting the seed influences our score.\n",
    "\n",
    "- Try different seed values: [0, 1, 2, 3, 4, 5, 6, 7, 8, 9].\n",
    "- For each seed, do the train/validation/test split with 60%/20%/20% distribution.\n",
    "- Fill the missing values with 0 and train a model without regularization.\n",
    "- For each seed, evaluate the model on the validation dataset and collect the RMSE scores.\n",
    "- What's the standard deviation of all the scores? To compute the standard deviation, use np.std.\n",
    "- Round the result to 3 decimal digits (round(std, 3))"
   ]
  },
  {
   "cell_type": "code",
   "execution_count": 63,
   "id": "464d80ee",
   "metadata": {},
   "outputs": [
    {
     "name": "stdout",
     "output_type": "stream",
     "text": [
      "seed=0, RMSE=0.52\n",
      "seed=1, RMSE=0.52\n",
      "seed=2, RMSE=0.52\n",
      "seed=3, RMSE=0.52\n",
      "seed=4, RMSE=0.51\n",
      "seed=5, RMSE=0.53\n",
      "seed=6, RMSE=0.53\n",
      "seed=7, RMSE=0.51\n",
      "seed=8, RMSE=0.51\n",
      "seed=9, RMSE=0.51\n"
     ]
    }
   ],
   "source": [
    "seeds = [0, 1, 2, 3, 4, 5, 6, 7, 8, 9]\n",
    "scores = []\n",
    "\n",
    "for seed in seeds:\n",
    "    (df_train, df_val, df_test) = shuffle_df(df, seed)\n",
    "    (y_train, y_val, _) = get_target_vals(\n",
    "        df_train=df_train, df_val=df_val, df_test=df_test)\n",
    "\n",
    "    # Prepare the feature matrix for training data\n",
    "    X_train = prepare_X(df_train, fillna=0)\n",
    "    (w0, w) = train_linear_regression(X_train, y_train)\n",
    "\n",
    "    X_val = prepare_X(df_val, fillna=0)\n",
    "    y_pred = w0 + X_val.dot(w)\n",
    "\n",
    "    score = rmse(y_val, y_pred).round(2)\n",
    "    print(f'seed={seed}, RMSE={score}')\n",
    "    scores.append(score)"
   ]
  },
  {
   "cell_type": "code",
   "execution_count": 64,
   "id": "1d997d90",
   "metadata": {},
   "outputs": [
    {
     "data": {
      "text/plain": [
       "np.float64(0.007)"
      ]
     },
     "execution_count": 64,
     "metadata": {},
     "output_type": "execute_result"
    }
   ],
   "source": [
    "np.std(scores).round(3)"
   ]
  },
  {
   "cell_type": "markdown",
   "id": "1dea5921",
   "metadata": {},
   "source": [
    "### Question 6\n",
    "\n",
    "- Split the dataset like previously, use seed 9.\n",
    "- Combine train and validation datasets.\n",
    "- Fill the missing values with 0 and train a model with r=0.001.\n",
    "\n",
    "What's the RMSE on the test dataset?"
   ]
  },
  {
   "cell_type": "code",
   "execution_count": null,
   "id": "16ce591b",
   "metadata": {},
   "outputs": [],
   "source": [
    "(df_train, df_val, df_test) = shuffle_df(df, 9)  # Shuffle dataset with seed 9\n",
    "df_full_train = pd.concat([df_train, df_val]).reset_index(\n",
    "    drop=True)  # Combine train and validation sets\n",
    "(y_full_train, _, y_test) = get_target_vals(\n",
    "    df_train=df_full_train, df_val=df_val, df_test=df_test)  # Get target values, y_val is not needed as validation set is combined with training set"
   ]
  },
  {
   "cell_type": "code",
   "execution_count": 66,
   "id": "16794d7e",
   "metadata": {},
   "outputs": [
    {
     "name": "stdout",
     "output_type": "stream",
     "text": [
      "Test RMSE: 0.52\n"
     ]
    }
   ],
   "source": [
    "# Prepare the feature matrix for full training data\n",
    "X_full_train = prepare_X(df_full_train, fillna=0)\n",
    "(w0, w) = train_linear_regression(X_full_train, y_full_train)\n",
    "\n",
    "X_test = prepare_X(df_test, fillna=0)\n",
    "y_pred = w0 + X_test.dot(w)\n",
    "\n",
    "score = rmse(y_test, y_pred).round(2)\n",
    "print(f'Test RMSE: {score}')"
   ]
  }
 ],
 "metadata": {
  "kernelspec": {
   "display_name": "Python 3 (ipykernel)",
   "language": "python",
   "name": "python3"
  },
  "language_info": {
   "codemirror_mode": {
    "name": "ipython",
    "version": 3
   },
   "file_extension": ".py",
   "mimetype": "text/x-python",
   "name": "python",
   "nbconvert_exporter": "python",
   "pygments_lexer": "ipython3",
   "version": "3.11.13"
  }
 },
 "nbformat": 4,
 "nbformat_minor": 5
}
