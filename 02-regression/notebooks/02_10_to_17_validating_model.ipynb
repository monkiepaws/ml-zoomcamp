{
 "cells": [
  {
   "cell_type": "markdown",
   "id": "3cf8cf99",
   "metadata": {},
   "source": [
    "# Module 2.10 Validating the model"
   ]
  },
  {
   "cell_type": "markdown",
   "id": "5b61f79b",
   "metadata": {},
   "source": [
    "## Setup"
   ]
  },
  {
   "cell_type": "markdown",
   "id": "3a37937f",
   "metadata": {},
   "source": [
    "### Imports"
   ]
  },
  {
   "cell_type": "code",
   "execution_count": 402,
   "id": "98521470",
   "metadata": {},
   "outputs": [],
   "source": [
    "import numpy as np\n",
    "import pandas as pd\n",
    "import matplotlib.pyplot as plt\n",
    "import seaborn as sns\n",
    "\n",
    "%matplotlib inline"
   ]
  },
  {
   "cell_type": "markdown",
   "id": "84fc0dc8",
   "metadata": {},
   "source": [
    "### Load data"
   ]
  },
  {
   "cell_type": "code",
   "execution_count": 403,
   "id": "3e65655f",
   "metadata": {},
   "outputs": [],
   "source": [
    "# Load the training data\n",
    "df_train = pd.read_csv('02-regression/notebooks/data_train.csv')"
   ]
  },
  {
   "cell_type": "code",
   "execution_count": 404,
   "id": "a689fec0",
   "metadata": {},
   "outputs": [],
   "source": [
    "# Load the validation data\n",
    "df_val = pd.read_csv('02-regression/notebooks/data_val.csv')"
   ]
  },
  {
   "cell_type": "code",
   "execution_count": 405,
   "id": "9fb23b75",
   "metadata": {},
   "outputs": [],
   "source": [
    "# Load the test data\n",
    "df_test = pd.read_csv('02-regression/notebooks/data_test.csv')"
   ]
  },
  {
   "cell_type": "markdown",
   "id": "a10b2635",
   "metadata": {},
   "source": [
    "## 2.10 Validating the model"
   ]
  },
  {
   "cell_type": "markdown",
   "id": "8f2fbb7f",
   "metadata": {},
   "source": [
    "### Notes\n",
    "\n",
    "From https://github.com/DataTalksClub/machine-learning-zoomcamp/blob/master/02-regression/10-car-price-validation.md\n",
    "\n",
    "Calculation of the RMSE on validation partition of the dataset of car price prediction. In this way, we have a metric to evaluate the model's \n",
    "performance. "
   ]
  },
  {
   "cell_type": "markdown",
   "id": "71acd422",
   "metadata": {},
   "source": [
    "### Implementation"
   ]
  },
  {
   "cell_type": "code",
   "execution_count": 406,
   "id": "7eebef7b",
   "metadata": {},
   "outputs": [],
   "source": [
    "# Let's select our feature columns\n",
    "base = ['engine_hp', 'engine_cylinders',\n",
    "        'highway_mpg', 'city_mpg', 'popularity']"
   ]
  },
  {
   "cell_type": "code",
   "execution_count": 407,
   "id": "85f5a8e8",
   "metadata": {},
   "outputs": [],
   "source": [
    "# Target values\n",
    "y_train = np.log1p(df_train.msrp.values)\n",
    "\n",
    "# Target values for validation set\n",
    "y_val = np.log1p(df_val.msrp.values)"
   ]
  },
  {
   "cell_type": "code",
   "execution_count": 408,
   "id": "59907426",
   "metadata": {},
   "outputs": [],
   "source": [
    "def train_linear_regression(X, y):\n",
    "    \"\"\"Train linear regression model using the Normal Equation.\"\"\"\n",
    "    ones = np.ones(X.shape[0])\n",
    "    X = np.column_stack([ones, X])  # add bias column of ones\n",
    "    XTX = X.T.dot(X)  # Gram matrix\n",
    "    XTX_inv = np.linalg.inv(XTX)  # inverse of Gram matrix\n",
    "    w_full = XTX_inv.dot(X.T).dot(y)  # weights including bias\n",
    "\n",
    "    return w_full[0], w_full[1:]  # return bias and weights"
   ]
  },
  {
   "cell_type": "code",
   "execution_count": 409,
   "id": "f8c2cc36",
   "metadata": {},
   "outputs": [],
   "source": [
    "def prepare_X(df):\n",
    "    \"\"\"Prepare feature matrix from dataframe.\"\"\"\n",
    "    df_num = df[base]\n",
    "    df_num = df_num.fillna(0)  # fill missing values with 0\n",
    "    X = df_num.values\n",
    "    return X"
   ]
  },
  {
   "cell_type": "code",
   "execution_count": 410,
   "id": "a2d99d94",
   "metadata": {},
   "outputs": [],
   "source": [
    "def rmse(y, y_pred):\n",
    "    \"\"\"Calculate Root Mean Squared Error.\"\"\"\n",
    "    se = (y - y_pred) ** 2  # squared errors\n",
    "    mse = se.mean()  # mean squared error\n",
    "    return np.sqrt(mse)  # root mean squared error"
   ]
  },
  {
   "cell_type": "code",
   "execution_count": 411,
   "id": "a991ba0f",
   "metadata": {},
   "outputs": [
    {
     "data": {
      "text/plain": [
       "np.float64(0.739818428511342)"
      ]
     },
     "execution_count": 411,
     "metadata": {},
     "output_type": "execute_result"
    }
   ],
   "source": [
    "# Prepare the feature matrix for training data\n",
    "X_train = prepare_X(df_train)\n",
    "(w0, w) = train_linear_regression(X_train, y_train)\n",
    "\n",
    "X_val = prepare_X(df_val)\n",
    "y_pred = w0 + X_val.dot(w)\n",
    "\n",
    "rmse(y_val, y_pred)"
   ]
  },
  {
   "cell_type": "markdown",
   "id": "3ac2fd92",
   "metadata": {},
   "source": [
    "## 2.11 Feature engineering"
   ]
  },
  {
   "cell_type": "markdown",
   "id": "980d33d3",
   "metadata": {},
   "source": [
    "### Notes\n",
    "\n",
    "From https://github.com/DataTalksClub/machine-learning-zoomcamp/blob/master/02-regression/11-feature-engineering.md\n",
    "\n",
    "The feature age of the car was included in the dataset, obtained with the subtraction of the maximum year of cars and each of the years of cars. This new feature improved the model performance, measured with the RMSE and comparing the distributions of y target variable and predictions."
   ]
  },
  {
   "cell_type": "markdown",
   "id": "03942556",
   "metadata": {},
   "source": [
    "### Implementation"
   ]
  },
  {
   "cell_type": "code",
   "execution_count": 412,
   "id": "401400eb",
   "metadata": {},
   "outputs": [
    {
     "data": {
      "text/plain": [
       "np.int64(2017)"
      ]
     },
     "execution_count": 412,
     "metadata": {},
     "output_type": "execute_result"
    }
   ],
   "source": [
    "# What is the most recent year in the dataset? (What is the date of the dataset?)\n",
    "year = df_train.year.max()\n",
    "year"
   ]
  },
  {
   "cell_type": "code",
   "execution_count": 413,
   "id": "51299699",
   "metadata": {},
   "outputs": [],
   "source": [
    "# Create a new feature 'age'\n",
    "def prepare_X(df_orig):\n",
    "    \"\"\"Prepare feature matrix from dataframe.\"\"\"\n",
    "    df = df_orig.copy()  # avoid changing the original dataframe\n",
    "\n",
    "    df['age'] = year - df.year  # new 'age' feature\n",
    "    features = base + ['age']  # add 'age' to the list of features\n",
    "\n",
    "    df_num = df[features]  # select feature columns\n",
    "    df_num = df_num.fillna(0)  # fill missing values with 0\n",
    "    X = df_num.values\n",
    "\n",
    "    return X"
   ]
  },
  {
   "cell_type": "code",
   "execution_count": 414,
   "id": "76bc7d5c",
   "metadata": {},
   "outputs": [
    {
     "data": {
      "text/plain": [
       "np.float64(0.5133241025826346)"
      ]
     },
     "execution_count": 414,
     "metadata": {},
     "output_type": "execute_result"
    }
   ],
   "source": [
    "# Prepare the feature matrix for training data with the new 'age' feature\n",
    "X_train = prepare_X(df_train)\n",
    "(w0, w) = train_linear_regression(X_train, y_train)\n",
    "\n",
    "X_val = prepare_X(df_val)\n",
    "y_pred = w0 + X_val.dot(w)\n",
    "\n",
    "rmse(y_val, y_pred)"
   ]
  },
  {
   "cell_type": "code",
   "execution_count": 415,
   "id": "66a9abfe",
   "metadata": {},
   "outputs": [
    {
     "data": {
      "text/plain": [
       "<Axes: ylabel='Count'>"
      ]
     },
     "execution_count": 415,
     "metadata": {},
     "output_type": "execute_result"
    },
    {
     "data": {
      "image/png": "[encoded data removed]",
      "text/plain": [
       "<Figure size 640x480 with 1 Axes>"
      ]
     },
     "metadata": {},
     "output_type": "display_data"
    }
   ],
   "source": [
    "# Plot validation vs predicted values\n",
    "sns.histplot(y_pred, color='red', bins=50)\n",
    "sns.histplot(y_val, color='blue', alpha=0.5, bins=50)"
   ]
  },
  {
   "cell_type": "markdown",
   "id": "70f0a307",
   "metadata": {},
   "source": [
    "## 2.12 Categorical variables"
   ]
  },
  {
   "cell_type": "markdown",
   "id": "23774520",
   "metadata": {},
   "source": [
    "### Notes\n",
    "\n",
    "From https://github.com/DataTalksClub/machine-learning-zoomcamp/blob/master/02-regression/12-categorical-variables.md\n",
    "\n",
    "Categorical variables are typically represented as strings, and pandas identifies them as object types. However, some variables that appear to be numerical may actually be categorical (e.g., the number of doors a car has). All these categorical variables need to be converted to a numerical form because ML models can interpret only numerical features. It is possible to incorporate certain categories from a feature, not necessarily all of them. This transformation from categorical to numerical variables is known as One-Hot encoding."
   ]
  },
  {
   "cell_type": "markdown",
   "id": "38b3fa26",
   "metadata": {},
   "source": [
    "### Implementation"
   ]
  },
  {
   "cell_type": "code",
   "execution_count": 416,
   "id": "de3e5ae5",
   "metadata": {},
   "outputs": [],
   "source": [
    "categorical_columns = [\n",
    "    'make', 'model', 'engine_fuel_type', 'driven_wheels', 'market_category',\n",
    "    'vehicle_size', 'vehicle_style']\n",
    "\n",
    "categorical = {}\n",
    "\n",
    "for c in categorical_columns:\n",
    "    categorical[c] = list(df_train[c].value_counts().head().index)"
   ]
  },
  {
   "cell_type": "code",
   "execution_count": null,
   "id": "d5e7ba0a",
   "metadata": {},
   "outputs": [],
   "source": [
    "# Create new features age, and cetegorical features\n",
    "def prepare_X(df_orig):\n",
    "    \"\"\"Prepare feature matrix from dataframe.\"\"\"\n",
    "    df = df_orig.copy()  # avoid changing the original dataframe\n",
    "    features = base.copy()  # copy the base features\n",
    "\n",
    "    # Age feature\n",
    "    df['age'] = year - df.year  # new 'age' feature\n",
    "    features.append('age')  # add 'age' to the list of features\n",
    "\n",
    "    # Doors features\n",
    "    for val in [2, 3, 4]:\n",
    "        df[f'num_doors_{val}'] = (df.number_of_doors == val).astype(\n",
    "            int)  # one-hot encoding\n",
    "        features.append(f'num_doors_{val}')  # add door feature to the list\n",
    "\n",
    "    for name, values in categorical.items():\n",
    "        for value in values:\n",
    "            df[f'{name}_{value}'] = (df[name] == value).astype(int)\n",
    "            features.append(f'{name}_{value}')\n",
    "\n",
    "    df_num = df[features]  # select feature columns\n",
    "    df_num = df_num.fillna(0)  # fill missing values with 0\n",
    "    X = df_num.values\n",
    "\n",
    "    return X"
   ]
  },
  {
   "cell_type": "code",
   "execution_count": 418,
   "id": "a5ca7dd2",
   "metadata": {},
   "outputs": [
    {
     "data": {
      "text/plain": [
       "np.float64(11.974047956520602)"
      ]
     },
     "execution_count": 418,
     "metadata": {},
     "output_type": "execute_result"
    }
   ],
   "source": [
    "# Prepare the feature matrix for training data with the new age and categorical features\n",
    "X_train = prepare_X(df_train)\n",
    "(w0, w) = train_linear_regression(X_train, y_train)\n",
    "\n",
    "X_val = prepare_X(df_val)\n",
    "y_pred = w0 + X_val.dot(w)\n",
    "\n",
    "rmse(y_val, y_pred)"
   ]
  },
  {
   "cell_type": "code",
   "execution_count": 419,
   "id": "0b663409",
   "metadata": {},
   "outputs": [
    {
     "data": {
      "text/plain": [
       "<Axes: ylabel='Count'>"
      ]
     },
     "execution_count": 419,
     "metadata": {},
     "output_type": "execute_result"
    },
    {
     "data": {
      "image/png": "[encoded data removed]",
      "text/plain": [
       "<Figure size 640x480 with 1 Axes>"
      ]
     },
     "metadata": {},
     "output_type": "display_data"
    }
   ],
   "source": [
    "# Plot validation vs predicted values\n",
    "sns.histplot(y_pred, color='red', bins=50)\n",
    "sns.histplot(y_val, color='blue', alpha=0.5, bins=50)"
   ]
  },
  {
   "cell_type": "markdown",
   "id": "5da8acca",
   "metadata": {},
   "source": [
    "## 2.13 Regularisation"
   ]
  },
  {
   "cell_type": "markdown",
   "id": "572bc463",
   "metadata": {},
   "source": [
    "### Notes\n",
    "\n",
    "From https://github.com/DataTalksClub/machine-learning-zoomcamp/blob/master/02-regression/13-regularization.md\n",
    "\n",
    "If the feature matrix has duplicate columns (or columns that can be expressed as a linear combination of other columns), it will not have an inverse matrix. But, sometimes this error could be passed if certain values are slightly different between duplicated columns.\n",
    "\n",
    "So, if we apply the normal equation with this feature matrix, the values associated with duplicated columns are very large, which decreases the model performance. To solve this issue, one alternative is adding a small number to the diagonal of the feature matrix, which corresponds to regularization.\n",
    "\n",
    "This technique works because the addition of small values to the diagonal makes it less likely to have duplicated columns. The regularization value is a hyperparameter of the model. After applying regularization the model performance improved.\n",
    "\n",
    "#### Comments\n",
    "##### Linear combination\n",
    "\n",
    "I mentioned the term *linear combination* in the video, but didn't explain what it means. \n",
    "So if you're interested what it means, you can read here\n",
    "\n",
    "* One column is a linear combination of others when you can express one column of a matrix as a sum of others columns\n",
    "* The simplest example is when a column is an exact duplicate of another column\n",
    "* Another example. Let's say we have 3 columns: `a`, `b`, `c`. If `c = 0.2 * a + 0.5 * b`, then `c` is a linear combination of `a` and `b`\n",
    "* More formal definition: https://en.wikipedia.org/wiki/Linear_combination\n",
    "\n",
    "##### Ridge Regression\n",
    "The regularization technique used (adding a factor to the diagonals of Gram Matrix) in this lesson is Ridge Regression. Further explanations are available in this [DataTalks.Club article](https://datatalks.club/blog/regularization-in-regression.html)."
   ]
  },
  {
   "cell_type": "markdown",
   "id": "5fe140c2",
   "metadata": {},
   "source": [
    "### Implementation"
   ]
  },
  {
   "cell_type": "code",
   "execution_count": 420,
   "id": "2135d406",
   "metadata": {},
   "outputs": [
    {
     "data": {
      "text/plain": [
       "array([[1, 2, 2],\n",
       "       [2, 1, 1],\n",
       "       [2, 1, 1]])"
      ]
     },
     "execution_count": 420,
     "metadata": {},
     "output_type": "execute_result"
    }
   ],
   "source": [
    "# Example\n",
    "XTX = [\n",
    "    [1, 2, 2],\n",
    "    [2, 1, 1],\n",
    "    [2, 1, 1]\n",
    "]\n",
    "\n",
    "XTX = np.array(XTX)\n",
    "XTX"
   ]
  },
  {
   "cell_type": "code",
   "execution_count": 421,
   "id": "1b21ea9b",
   "metadata": {},
   "outputs": [],
   "source": [
    "# np.linalg.inv(XTX) # this will fail with a LinAlgError"
   ]
  },
  {
   "cell_type": "code",
   "execution_count": 422,
   "id": "6cc78c86",
   "metadata": {},
   "outputs": [
    {
     "data": {
      "text/plain": [
       "array([[1.       , 2.       , 2.       ],\n",
       "       [2.       , 1.       , 1.0000001],\n",
       "       [2.       , 1.0000001, 1.       ]])"
      ]
     },
     "execution_count": 422,
     "metadata": {},
     "output_type": "execute_result"
    }
   ],
   "source": [
    "# Make XTX almost singular\n",
    "XTX = [\n",
    "    [1, 2, 2],\n",
    "    [2, 1, 1.0000001],\n",
    "    [2, 1.0000001, 1]\n",
    "]\n",
    "\n",
    "XTX = np.array(XTX)\n",
    "XTX"
   ]
  },
  {
   "cell_type": "code",
   "execution_count": null,
   "id": "1c38911c",
   "metadata": {},
   "outputs": [
    {
     "data": {
      "text/plain": [
       "array([[-3.33333356e-01,  3.33333339e-01,  3.33333339e-01],\n",
       "       [ 3.33333339e-01, -5.00000008e+06,  4.99999991e+06],\n",
       "       [ 3.33333339e-01,  4.99999991e+06, -5.00000008e+06]])"
      ]
     },
     "execution_count": 423,
     "metadata": {},
     "output_type": "execute_result"
    }
   ],
   "source": [
    "np.linalg.inv(XTX)  # Will work but with large numbers"
   ]
  },
  {
   "cell_type": "code",
   "execution_count": null,
   "id": "1435a081",
   "metadata": {},
   "outputs": [
    {
     "data": {
      "text/plain": [
       "array([[1.01     , 2.       , 2.       ],\n",
       "       [2.       , 1.01     , 1.0000001],\n",
       "       [2.       , 1.0000001, 1.01     ]])"
      ]
     },
     "execution_count": 424,
     "metadata": {},
     "output_type": "execute_result"
    }
   ],
   "source": [
    "# Add a small value to the diagonal (regularisation)\n",
    "XTX = XTX + 0.01 * np.eye(3)  # add 0.01 to the diagonal\n",
    "XTX"
   ]
  },
  {
   "cell_type": "code",
   "execution_count": 425,
   "id": "e9cad0aa",
   "metadata": {},
   "outputs": [
    {
     "data": {
      "text/plain": [
       "array([[ -0.33668908,   0.33501399,   0.33501399],\n",
       "       [  0.33501399,  49.91590897, -50.08509104],\n",
       "       [  0.33501399, -50.08509104,  49.91590897]])"
      ]
     },
     "execution_count": 425,
     "metadata": {},
     "output_type": "execute_result"
    }
   ],
   "source": [
    "# Now it should work\n",
    "# The larger the regularisation value, the smaller the weights in this example\n",
    "np.linalg.inv(XTX)"
   ]
  },
  {
   "cell_type": "code",
   "execution_count": null,
   "id": "51c5e4c9",
   "metadata": {},
   "outputs": [],
   "source": [
    "def train_linear_regression_reg(X, y, reg=0.001):\n",
    "    \"\"\"Train linear regression model using the Normal Equation.\"\"\"\n",
    "    ones = np.ones(X.shape[0])\n",
    "    X = np.column_stack([ones, X])  # add bias column of ones\n",
    "    XTX = X.T.dot(X)  # Gram matrix\n",
    "\n",
    "    # add regularization to the diagonal\n",
    "    XTX = XTX + reg * np.eye(XTX.shape[0])\n",
    "\n",
    "    XTX_inv = np.linalg.inv(XTX)  # inverse of Gram matrix\n",
    "    w_full = XTX_inv.dot(X.T).dot(y)  # weights including bias\n",
    "\n",
    "    return w_full[0], w_full[1:]  # return bias and weights"
   ]
  },
  {
   "cell_type": "code",
   "execution_count": 427,
   "id": "0aed698a",
   "metadata": {},
   "outputs": [
    {
     "data": {
      "text/plain": [
       "np.float64(0.45620351314346075)"
      ]
     },
     "execution_count": 427,
     "metadata": {},
     "output_type": "execute_result"
    }
   ],
   "source": [
    "# Prepare the feature matrix for training data with regularisation\n",
    "X_train = prepare_X(df_train)\n",
    "(w0, w) = train_linear_regression_reg(X_train, y_train, 0.01)\n",
    "\n",
    "X_val = prepare_X(df_val)\n",
    "y_pred = w0 + X_val.dot(w)\n",
    "\n",
    "rmse(y_val, y_pred)"
   ]
  },
  {
   "cell_type": "code",
   "execution_count": 428,
   "id": "cb78b4e6",
   "metadata": {},
   "outputs": [
    {
     "data": {
      "text/plain": [
       "<Axes: ylabel='Count'>"
      ]
     },
     "execution_count": 428,
     "metadata": {},
     "output_type": "execute_result"
    },
    {
     "data": {
      "image/png": "[encoded data removed]",
      "text/plain": [
       "<Figure size 640x480 with 1 Axes>"
      ]
     },
     "metadata": {},
     "output_type": "display_data"
    }
   ],
   "source": [
    "# Plot validation vs predicted values\n",
    "sns.histplot(y_pred, color='red', bins=50)\n",
    "sns.histplot(y_val, color='blue', alpha=0.5, bins=50)"
   ]
  },
  {
   "cell_type": "markdown",
   "id": "9d99f838",
   "metadata": {},
   "source": [
    "## 2.14 Tuning the model"
   ]
  },
  {
   "cell_type": "markdown",
   "id": "00097897",
   "metadata": {},
   "source": [
    "### Notes\n",
    "\n",
    "From https://github.com/DataTalksClub/machine-learning-zoomcamp/blob/master/02-regression/14-tuning-model.md\n",
    "\n",
    "Tuning the model consisted of finding the best regularization hyperparameter value, using the validation partition of the dataset. The model was then trained with this regularization value."
   ]
  },
  {
   "cell_type": "markdown",
   "id": "7bcd6496",
   "metadata": {},
   "source": [
    "### Implementation"
   ]
  },
  {
   "cell_type": "code",
   "execution_count": null,
   "id": "7e0008c7",
   "metadata": {},
   "outputs": [
    {
     "name": "stdout",
     "output_type": "stream",
     "text": [
      "0.0 538575225087406.0 11.974047956520602\n",
      "1e-05 7.236247247742298 0.4562224795745202\n",
      "0.0001 7.236051099942988 0.45622230157444793\n",
      "0.001 7.234175927493055 0.4562205097051638\n",
      "0.1 7.045725784245137 0.456111058006034\n",
      "1 6.140819742328392 0.457478481459754\n",
      "10 4.720064528929132 0.4693391993895634\n"
     ]
    }
   ],
   "source": [
    "# Try different values of the regularisation parameter\n",
    "for r in [0.0, 0.00001, 0.0001, 0.001, 0.1, 1, 10]:\n",
    "    X_train = prepare_X(df_train)\n",
    "    w0, w = train_linear_regression_reg(X_train, y_train, reg=r)\n",
    "\n",
    "    X_val = prepare_X(df_val)\n",
    "    y_pred = w0 + X_val.dot(w)\n",
    "    score = rmse(y_val, y_pred)\n",
    "\n",
    "    print(r, w0, score)"
   ]
  },
  {
   "cell_type": "code",
   "execution_count": 430,
   "id": "c415b6ab",
   "metadata": {},
   "outputs": [
    {
     "name": "stdout",
     "output_type": "stream",
     "text": [
      "0.4562205097051638\n"
     ]
    }
   ],
   "source": [
    "# Final model with regularisation parameter 0.001\n",
    "reg = 0.001\n",
    "X_train = prepare_X(df_train)\n",
    "w0, w = train_linear_regression_reg(X_train, y_train, reg=reg)\n",
    "\n",
    "X_val = prepare_X(df_val)\n",
    "y_pred = w0 + X_val.dot(w)\n",
    "score = rmse(y_val, y_pred)\n",
    "print(score)"
   ]
  },
  {
   "cell_type": "markdown",
   "id": "749f1df1",
   "metadata": {},
   "source": [
    "## 2.15 Using the model"
   ]
  },
  {
   "cell_type": "markdown",
   "id": "86092cc6",
   "metadata": {},
   "source": [
    "### Notes\n",
    "\n",
    "From https://github.com/DataTalksClub/machine-learning-zoomcamp/blob/master/02-regression/15-using-model.md\n",
    "\n",
    "After finding the best model and its parameters, it was trained with training and validation partitions and the final RMSE was calculated on the test partition.\n",
    "\n",
    "Finally, the final model was used to predict the price of new cars."
   ]
  },
  {
   "cell_type": "code",
   "execution_count": 431,
   "id": "cffda117",
   "metadata": {},
   "outputs": [
    {
     "data": {
      "text/html": [
       "<div>\n",
       "<style scoped>\n",
       "    .dataframe tbody tr th:only-of-type {\n",
       "        vertical-align: middle;\n",
       "    }\n",
       "\n",
       "    .dataframe tbody tr th {\n",
       "        vertical-align: top;\n",
       "    }\n",
       "\n",
       "    .dataframe thead th {\n",
       "        text-align: right;\n",
       "    }\n",
       "</style>\n",
       "<table border=\"1\" class=\"dataframe\">\n",
       "  <thead>\n",
       "    <tr style=\"text-align: right;\">\n",
       "      <th></th>\n",
       "      <th>make</th>\n",
       "      <th>model</th>\n",
       "      <th>year</th>\n",
       "      <th>engine_fuel_type</th>\n",
       "      <th>engine_hp</th>\n",
       "      <th>engine_cylinders</th>\n",
       "      <th>transmission_type</th>\n",
       "      <th>driven_wheels</th>\n",
       "      <th>number_of_doors</th>\n",
       "      <th>market_category</th>\n",
       "      <th>vehicle_size</th>\n",
       "      <th>vehicle_style</th>\n",
       "      <th>highway_mpg</th>\n",
       "      <th>city_mpg</th>\n",
       "      <th>popularity</th>\n",
       "      <th>msrp</th>\n",
       "    </tr>\n",
       "  </thead>\n",
       "  <tbody>\n",
       "    <tr>\n",
       "      <th>0</th>\n",
       "      <td>gmc</td>\n",
       "      <td>envoy_xl</td>\n",
       "      <td>2005</td>\n",
       "      <td>regular_unleaded</td>\n",
       "      <td>275.0</td>\n",
       "      <td>6.0</td>\n",
       "      <td>automatic</td>\n",
       "      <td>rear_wheel_drive</td>\n",
       "      <td>4.0</td>\n",
       "      <td>NaN</td>\n",
       "      <td>large</td>\n",
       "      <td>4dr_suv</td>\n",
       "      <td>18</td>\n",
       "      <td>13</td>\n",
       "      <td>549</td>\n",
       "      <td>29695</td>\n",
       "    </tr>\n",
       "    <tr>\n",
       "      <th>1</th>\n",
       "      <td>volkswagen</td>\n",
       "      <td>passat</td>\n",
       "      <td>2016</td>\n",
       "      <td>regular_unleaded</td>\n",
       "      <td>170.0</td>\n",
       "      <td>4.0</td>\n",
       "      <td>automatic</td>\n",
       "      <td>front_wheel_drive</td>\n",
       "      <td>4.0</td>\n",
       "      <td>NaN</td>\n",
       "      <td>midsize</td>\n",
       "      <td>sedan</td>\n",
       "      <td>38</td>\n",
       "      <td>25</td>\n",
       "      <td>873</td>\n",
       "      <td>30495</td>\n",
       "    </tr>\n",
       "    <tr>\n",
       "      <th>2</th>\n",
       "      <td>honda</td>\n",
       "      <td>odyssey</td>\n",
       "      <td>2016</td>\n",
       "      <td>regular_unleaded</td>\n",
       "      <td>248.0</td>\n",
       "      <td>6.0</td>\n",
       "      <td>automatic</td>\n",
       "      <td>front_wheel_drive</td>\n",
       "      <td>4.0</td>\n",
       "      <td>NaN</td>\n",
       "      <td>large</td>\n",
       "      <td>passenger_minivan</td>\n",
       "      <td>28</td>\n",
       "      <td>19</td>\n",
       "      <td>2202</td>\n",
       "      <td>37650</td>\n",
       "    </tr>\n",
       "    <tr>\n",
       "      <th>3</th>\n",
       "      <td>chevrolet</td>\n",
       "      <td>cruze</td>\n",
       "      <td>2015</td>\n",
       "      <td>regular_unleaded</td>\n",
       "      <td>138.0</td>\n",
       "      <td>4.0</td>\n",
       "      <td>manual</td>\n",
       "      <td>front_wheel_drive</td>\n",
       "      <td>4.0</td>\n",
       "      <td>NaN</td>\n",
       "      <td>midsize</td>\n",
       "      <td>sedan</td>\n",
       "      <td>36</td>\n",
       "      <td>25</td>\n",
       "      <td>1385</td>\n",
       "      <td>16170</td>\n",
       "    </tr>\n",
       "    <tr>\n",
       "      <th>4</th>\n",
       "      <td>volvo</td>\n",
       "      <td>740</td>\n",
       "      <td>1991</td>\n",
       "      <td>regular_unleaded</td>\n",
       "      <td>162.0</td>\n",
       "      <td>4.0</td>\n",
       "      <td>automatic</td>\n",
       "      <td>rear_wheel_drive</td>\n",
       "      <td>4.0</td>\n",
       "      <td>luxury,performance</td>\n",
       "      <td>midsize</td>\n",
       "      <td>sedan</td>\n",
       "      <td>20</td>\n",
       "      <td>17</td>\n",
       "      <td>870</td>\n",
       "      <td>2000</td>\n",
       "    </tr>\n",
       "    <tr>\n",
       "      <th>...</th>\n",
       "      <td>...</td>\n",
       "      <td>...</td>\n",
       "      <td>...</td>\n",
       "      <td>...</td>\n",
       "      <td>...</td>\n",
       "      <td>...</td>\n",
       "      <td>...</td>\n",
       "      <td>...</td>\n",
       "      <td>...</td>\n",
       "      <td>...</td>\n",
       "      <td>...</td>\n",
       "      <td>...</td>\n",
       "      <td>...</td>\n",
       "      <td>...</td>\n",
       "      <td>...</td>\n",
       "      <td>...</td>\n",
       "    </tr>\n",
       "    <tr>\n",
       "      <th>9527</th>\n",
       "      <td>oldsmobile</td>\n",
       "      <td>lss</td>\n",
       "      <td>1999</td>\n",
       "      <td>regular_unleaded</td>\n",
       "      <td>240.0</td>\n",
       "      <td>6.0</td>\n",
       "      <td>automatic</td>\n",
       "      <td>front_wheel_drive</td>\n",
       "      <td>4.0</td>\n",
       "      <td>NaN</td>\n",
       "      <td>large</td>\n",
       "      <td>sedan</td>\n",
       "      <td>25</td>\n",
       "      <td>16</td>\n",
       "      <td>26</td>\n",
       "      <td>2681</td>\n",
       "    </tr>\n",
       "    <tr>\n",
       "      <th>9528</th>\n",
       "      <td>volkswagen</td>\n",
       "      <td>golf_sportwagen</td>\n",
       "      <td>2017</td>\n",
       "      <td>regular_unleaded</td>\n",
       "      <td>170.0</td>\n",
       "      <td>4.0</td>\n",
       "      <td>automatic</td>\n",
       "      <td>front_wheel_drive</td>\n",
       "      <td>4.0</td>\n",
       "      <td>NaN</td>\n",
       "      <td>compact</td>\n",
       "      <td>wagon</td>\n",
       "      <td>34</td>\n",
       "      <td>25</td>\n",
       "      <td>873</td>\n",
       "      <td>22680</td>\n",
       "    </tr>\n",
       "    <tr>\n",
       "      <th>9529</th>\n",
       "      <td>toyota</td>\n",
       "      <td>tundra</td>\n",
       "      <td>2016</td>\n",
       "      <td>regular_unleaded</td>\n",
       "      <td>310.0</td>\n",
       "      <td>8.0</td>\n",
       "      <td>automatic</td>\n",
       "      <td>rear_wheel_drive</td>\n",
       "      <td>4.0</td>\n",
       "      <td>NaN</td>\n",
       "      <td>large</td>\n",
       "      <td>extended_cab_pickup</td>\n",
       "      <td>19</td>\n",
       "      <td>15</td>\n",
       "      <td>2031</td>\n",
       "      <td>30950</td>\n",
       "    </tr>\n",
       "    <tr>\n",
       "      <th>9530</th>\n",
       "      <td>gmc</td>\n",
       "      <td>safari</td>\n",
       "      <td>2005</td>\n",
       "      <td>regular_unleaded</td>\n",
       "      <td>190.0</td>\n",
       "      <td>6.0</td>\n",
       "      <td>automatic</td>\n",
       "      <td>all_wheel_drive</td>\n",
       "      <td>3.0</td>\n",
       "      <td>NaN</td>\n",
       "      <td>large</td>\n",
       "      <td>passenger_minivan</td>\n",
       "      <td>16</td>\n",
       "      <td>12</td>\n",
       "      <td>549</td>\n",
       "      <td>26430</td>\n",
       "    </tr>\n",
       "    <tr>\n",
       "      <th>9531</th>\n",
       "      <td>volvo</td>\n",
       "      <td>xc60</td>\n",
       "      <td>2015</td>\n",
       "      <td>regular_unleaded</td>\n",
       "      <td>302.0</td>\n",
       "      <td>4.0</td>\n",
       "      <td>automatic</td>\n",
       "      <td>front_wheel_drive</td>\n",
       "      <td>4.0</td>\n",
       "      <td>crossover,luxury,performance</td>\n",
       "      <td>midsize</td>\n",
       "      <td>4dr_suv</td>\n",
       "      <td>30</td>\n",
       "      <td>22</td>\n",
       "      <td>870</td>\n",
       "      <td>42350</td>\n",
       "    </tr>\n",
       "  </tbody>\n",
       "</table>\n",
       "<p>9532 rows × 16 columns</p>\n",
       "</div>"
      ],
      "text/plain": [
       "            make            model  year  engine_fuel_type  engine_hp  \\\n",
       "0            gmc         envoy_xl  2005  regular_unleaded      275.0   \n",
       "1     volkswagen           passat  2016  regular_unleaded      170.0   \n",
       "2          honda          odyssey  2016  regular_unleaded      248.0   \n",
       "3      chevrolet            cruze  2015  regular_unleaded      138.0   \n",
       "4          volvo              740  1991  regular_unleaded      162.0   \n",
       "...          ...              ...   ...               ...        ...   \n",
       "9527  oldsmobile              lss  1999  regular_unleaded      240.0   \n",
       "9528  volkswagen  golf_sportwagen  2017  regular_unleaded      170.0   \n",
       "9529      toyota           tundra  2016  regular_unleaded      310.0   \n",
       "9530         gmc           safari  2005  regular_unleaded      190.0   \n",
       "9531       volvo             xc60  2015  regular_unleaded      302.0   \n",
       "\n",
       "      engine_cylinders transmission_type      driven_wheels  number_of_doors  \\\n",
       "0                  6.0         automatic   rear_wheel_drive              4.0   \n",
       "1                  4.0         automatic  front_wheel_drive              4.0   \n",
       "2                  6.0         automatic  front_wheel_drive              4.0   \n",
       "3                  4.0            manual  front_wheel_drive              4.0   \n",
       "4                  4.0         automatic   rear_wheel_drive              4.0   \n",
       "...                ...               ...                ...              ...   \n",
       "9527               6.0         automatic  front_wheel_drive              4.0   \n",
       "9528               4.0         automatic  front_wheel_drive              4.0   \n",
       "9529               8.0         automatic   rear_wheel_drive              4.0   \n",
       "9530               6.0         automatic    all_wheel_drive              3.0   \n",
       "9531               4.0         automatic  front_wheel_drive              4.0   \n",
       "\n",
       "                   market_category vehicle_size        vehicle_style  \\\n",
       "0                              NaN        large              4dr_suv   \n",
       "1                              NaN      midsize                sedan   \n",
       "2                              NaN        large    passenger_minivan   \n",
       "3                              NaN      midsize                sedan   \n",
       "4               luxury,performance      midsize                sedan   \n",
       "...                            ...          ...                  ...   \n",
       "9527                           NaN        large                sedan   \n",
       "9528                           NaN      compact                wagon   \n",
       "9529                           NaN        large  extended_cab_pickup   \n",
       "9530                           NaN        large    passenger_minivan   \n",
       "9531  crossover,luxury,performance      midsize              4dr_suv   \n",
       "\n",
       "      highway_mpg  city_mpg  popularity   msrp  \n",
       "0              18        13         549  29695  \n",
       "1              38        25         873  30495  \n",
       "2              28        19        2202  37650  \n",
       "3              36        25        1385  16170  \n",
       "4              20        17         870   2000  \n",
       "...           ...       ...         ...    ...  \n",
       "9527           25        16          26   2681  \n",
       "9528           34        25         873  22680  \n",
       "9529           19        15        2031  30950  \n",
       "9530           16        12         549  26430  \n",
       "9531           30        22         870  42350  \n",
       "\n",
       "[9532 rows x 16 columns]"
      ]
     },
     "execution_count": 431,
     "metadata": {},
     "output_type": "execute_result"
    }
   ],
   "source": [
    "# Combine training and validation sets\n",
    "df_full_train = pd.concat([df_train, df_val], ignore_index=True)\n",
    "df_full_train"
   ]
  },
  {
   "cell_type": "code",
   "execution_count": null,
   "id": "21be45d7",
   "metadata": {},
   "outputs": [
    {
     "data": {
      "text/plain": [
       "array([[275.,   6.,  18., ...,   0.,   0.,   0.],\n",
       "       [170.,   4.,  38., ...,   0.,   0.,   0.],\n",
       "       [248.,   6.,  28., ...,   0.,   0.,   0.],\n",
       "       ...,\n",
       "       [310.,   8.,  19., ...,   0.,   0.,   0.],\n",
       "       [190.,   6.,  16., ...,   0.,   0.,   0.],\n",
       "       [302.,   4.,  30., ...,   0.,   0.,   0.]], shape=(9532, 41))"
      ]
     },
     "execution_count": 432,
     "metadata": {},
     "output_type": "execute_result"
    }
   ],
   "source": [
    "# feature matrix for the combined dataset\n",
    "X_full_train = prepare_X(df_full_train)\n",
    "X_full_train"
   ]
  },
  {
   "cell_type": "code",
   "execution_count": null,
   "id": "013585a1",
   "metadata": {},
   "outputs": [
    {
     "data": {
      "text/plain": [
       "array([10.29876764, 10.32535081, 10.53611479, ..., 10.34016059,\n",
       "       10.18229284, 10.65374731], shape=(9532,))"
      ]
     },
     "execution_count": 433,
     "metadata": {},
     "output_type": "execute_result"
    }
   ],
   "source": [
    "# target values for the combined dataset\n",
    "y_full_train = np.concatenate([y_train, y_val])\n",
    "y_full_train"
   ]
  },
  {
   "cell_type": "code",
   "execution_count": null,
   "id": "3ff6d233",
   "metadata": {},
   "outputs": [],
   "source": [
    "# normalise target values for the test set\n",
    "y_test = np.log1p(df_test.msrp.values)"
   ]
  },
  {
   "cell_type": "code",
   "execution_count": 435,
   "id": "b7d862a1",
   "metadata": {},
   "outputs": [
    {
     "data": {
      "text/plain": [
       "np.float64(0.4549486630446402)"
      ]
     },
     "execution_count": 435,
     "metadata": {},
     "output_type": "execute_result"
    }
   ],
   "source": [
    "# Prepare the feature matrix for full training data\n",
    "(w0, w) = train_linear_regression_reg(X_full_train, y_full_train, reg=0.001)\n",
    "\n",
    "X_test = prepare_X(df_test)\n",
    "y_pred = w0 + X_test.dot(w)\n",
    "\n",
    "rmse(y_test, y_pred)"
   ]
  },
  {
   "cell_type": "markdown",
   "id": "6b1ca09f",
   "metadata": {},
   "source": [
    "### Use the model"
   ]
  },
  {
   "cell_type": "code",
   "execution_count": 436,
   "id": "f2c52495",
   "metadata": {},
   "outputs": [
    {
     "data": {
      "text/plain": [
       "{'make': 'toyota',\n",
       " 'model': 'tacoma',\n",
       " 'year': 2015,\n",
       " 'engine_fuel_type': 'regular_unleaded',\n",
       " 'engine_hp': 236.0,\n",
       " 'engine_cylinders': 6.0,\n",
       " 'transmission_type': 'manual',\n",
       " 'driven_wheels': 'four_wheel_drive',\n",
       " 'number_of_doors': 4.0,\n",
       " 'market_category': nan,\n",
       " 'vehicle_size': 'compact',\n",
       " 'vehicle_style': 'extended_cab_pickup',\n",
       " 'highway_mpg': 19,\n",
       " 'city_mpg': 15,\n",
       " 'popularity': 2031,\n",
       " 'msrp': 35725}"
      ]
     },
     "execution_count": 436,
     "metadata": {},
     "output_type": "execute_result"
    }
   ],
   "source": [
    "# Prepare a single car for prediction, kinda like an API request object model\n",
    "car = df_test.iloc[20].to_dict()\n",
    "car"
   ]
  },
  {
   "cell_type": "code",
   "execution_count": 437,
   "id": "d5158004",
   "metadata": {},
   "outputs": [
    {
     "data": {
      "text/html": [
       "<div>\n",
       "<style scoped>\n",
       "    .dataframe tbody tr th:only-of-type {\n",
       "        vertical-align: middle;\n",
       "    }\n",
       "\n",
       "    .dataframe tbody tr th {\n",
       "        vertical-align: top;\n",
       "    }\n",
       "\n",
       "    .dataframe thead th {\n",
       "        text-align: right;\n",
       "    }\n",
       "</style>\n",
       "<table border=\"1\" class=\"dataframe\">\n",
       "  <thead>\n",
       "    <tr style=\"text-align: right;\">\n",
       "      <th></th>\n",
       "      <th>make</th>\n",
       "      <th>model</th>\n",
       "      <th>year</th>\n",
       "      <th>engine_fuel_type</th>\n",
       "      <th>engine_hp</th>\n",
       "      <th>engine_cylinders</th>\n",
       "      <th>transmission_type</th>\n",
       "      <th>driven_wheels</th>\n",
       "      <th>number_of_doors</th>\n",
       "      <th>market_category</th>\n",
       "      <th>vehicle_size</th>\n",
       "      <th>vehicle_style</th>\n",
       "      <th>highway_mpg</th>\n",
       "      <th>city_mpg</th>\n",
       "      <th>popularity</th>\n",
       "      <th>msrp</th>\n",
       "    </tr>\n",
       "  </thead>\n",
       "  <tbody>\n",
       "    <tr>\n",
       "      <th>0</th>\n",
       "      <td>toyota</td>\n",
       "      <td>tacoma</td>\n",
       "      <td>2015</td>\n",
       "      <td>regular_unleaded</td>\n",
       "      <td>236.0</td>\n",
       "      <td>6.0</td>\n",
       "      <td>manual</td>\n",
       "      <td>four_wheel_drive</td>\n",
       "      <td>4.0</td>\n",
       "      <td>NaN</td>\n",
       "      <td>compact</td>\n",
       "      <td>extended_cab_pickup</td>\n",
       "      <td>19</td>\n",
       "      <td>15</td>\n",
       "      <td>2031</td>\n",
       "      <td>35725</td>\n",
       "    </tr>\n",
       "  </tbody>\n",
       "</table>\n",
       "</div>"
      ],
      "text/plain": [
       "     make   model  year  engine_fuel_type  engine_hp  engine_cylinders  \\\n",
       "0  toyota  tacoma  2015  regular_unleaded      236.0               6.0   \n",
       "\n",
       "  transmission_type     driven_wheels  number_of_doors  market_category  \\\n",
       "0            manual  four_wheel_drive              4.0              NaN   \n",
       "\n",
       "  vehicle_size        vehicle_style  highway_mpg  city_mpg  popularity   msrp  \n",
       "0      compact  extended_cab_pickup           19        15        2031  35725  "
      ]
     },
     "execution_count": 437,
     "metadata": {},
     "output_type": "execute_result"
    }
   ],
   "source": [
    "# We need to create a dataframe in this academic example\n",
    "df_car = pd.DataFrame([car])\n",
    "df_car"
   ]
  },
  {
   "cell_type": "code",
   "execution_count": 438,
   "id": "3a0224d2",
   "metadata": {},
   "outputs": [
    {
     "data": {
      "text/plain": [
       "array([[2.360e+02, 6.000e+00, 1.900e+01, 1.500e+01, 2.031e+03, 2.000e+00,\n",
       "        0.000e+00, 0.000e+00, 1.000e+00, 0.000e+00, 0.000e+00, 0.000e+00,\n",
       "        1.000e+00, 0.000e+00, 0.000e+00, 0.000e+00, 0.000e+00, 0.000e+00,\n",
       "        0.000e+00, 1.000e+00, 0.000e+00, 0.000e+00, 0.000e+00, 0.000e+00,\n",
       "        0.000e+00, 0.000e+00, 0.000e+00, 1.000e+00, 0.000e+00, 0.000e+00,\n",
       "        0.000e+00, 0.000e+00, 0.000e+00, 1.000e+00, 0.000e+00, 0.000e+00,\n",
       "        0.000e+00, 0.000e+00, 0.000e+00, 0.000e+00, 0.000e+00]])"
      ]
     },
     "execution_count": 438,
     "metadata": {},
     "output_type": "execute_result"
    }
   ],
   "source": [
    "# Prepare a feature matrix for the single car\n",
    "X_car = prepare_X(df_car)\n",
    "X_car"
   ]
  },
  {
   "cell_type": "code",
   "execution_count": 439,
   "id": "9402b025",
   "metadata": {},
   "outputs": [
    {
     "name": "stdout",
     "output_type": "stream",
     "text": [
      "[10.52516056]\n"
     ]
    }
   ],
   "source": [
    "# Make a prediction\n",
    "y_pred = w0 + X_car.dot(w)\n",
    "print(y_pred)"
   ]
  },
  {
   "cell_type": "code",
   "execution_count": 440,
   "id": "4ffacdf4",
   "metadata": {},
   "outputs": [
    {
     "name": "stdout",
     "output_type": "stream",
     "text": [
      "37239.812969102735\n"
     ]
    }
   ],
   "source": [
    "# Undo the logorithm and extract the price\n",
    "car_price = np.expm1(y_pred)[0]\n",
    "print(car_price)"
   ]
  },
  {
   "cell_type": "code",
   "execution_count": null,
   "id": "4f9f48f7",
   "metadata": {},
   "outputs": [
    {
     "name": "stdout",
     "output_type": "stream",
     "text": [
      "Difference between predicted car_price=37239.81 and test_price=35725.0\n",
      "diff=1514.81\n"
     ]
    }
   ],
   "source": [
    "# The actual values\n",
    "test_price = np.expm1(y_test[20])\n",
    "diff = (car_price - test_price).round(2)\n",
    "print(\n",
    "    f'Difference between predicted car_price={car_price.round(2)} and test_price={test_price.round(2)}\\ndiff={diff}')"
   ]
  },
  {
   "cell_type": "markdown",
   "id": "d01e619b",
   "metadata": {},
   "source": [
    "## 2.17 More\n",
    "In this project, we included only 5 top features. What happens if we include 10?"
   ]
  },
  {
   "cell_type": "code",
   "execution_count": null,
   "id": "e53da6ae",
   "metadata": {},
   "outputs": [],
   "source": [
    "categorical = {}\n",
    "\n",
    "for c in categorical_columns:\n",
    "    categorical[c] = list(df_train[c].value_counts().head(10).index)  # top 10\n",
    "\n",
    "\n",
    "def train_linear_regression_reg(X, y, reg=0.001):\n",
    "    \"\"\"Train linear regression model using the Normal Equation.\"\"\"\n",
    "    ones = np.ones(X.shape[0])\n",
    "    X = np.column_stack([ones, X])  # add bias column of ones\n",
    "    XTX = X.T.dot(X)  # Gram matrix\n",
    "\n",
    "    # add regularization to the diagonal\n",
    "    XTX = XTX + reg * np.eye(XTX.shape[0])\n",
    "\n",
    "    XTX_inv = np.linalg.inv(XTX)  # inverse of Gram matrix\n",
    "    w_full = XTX_inv.dot(X.T).dot(y)  # weights including bias\n",
    "\n",
    "    return w_full[0], w_full[1:]  # return bias and weights"
   ]
  },
  {
   "cell_type": "code",
   "execution_count": 445,
   "id": "daccb5c3",
   "metadata": {},
   "outputs": [
    {
     "name": "stdout",
     "output_type": "stream",
     "text": [
      "0.4414349744610127\n"
     ]
    }
   ],
   "source": [
    "# Final model with regularisation parameter 0.001\n",
    "reg = 0.001\n",
    "X_train = prepare_X(df_train)\n",
    "w0, w = train_linear_regression_reg(X_train, y_train, reg=reg)\n",
    "\n",
    "X_val = prepare_X(df_val)\n",
    "y_pred = w0 + X_val.dot(w)\n",
    "score = rmse(y_val, y_pred)\n",
    "print(score)"
   ]
  },
  {
   "cell_type": "markdown",
   "id": "9998088e",
   "metadata": {},
   "source": [
    "The RMSE lowered."
   ]
  }
 ],
 "metadata": {
  "kernelspec": {
   "display_name": "Python 3 (ipykernel)",
   "language": "python",
   "name": "python3"
  },
  "language_info": {
   "codemirror_mode": {
    "name": "ipython",
    "version": 3
   },
   "file_extension": ".py",
   "mimetype": "text/x-python",
   "name": "python",
   "nbconvert_exporter": "python",
   "pygments_lexer": "ipython3",
   "version": "3.11.13"
  }
 },
 "nbformat": 4,
 "nbformat_minor": 5
}
