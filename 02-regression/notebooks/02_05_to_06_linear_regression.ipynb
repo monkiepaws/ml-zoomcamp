{
 "cells": [
  {
   "cell_type": "markdown",
   "id": "cc1339cc",
   "metadata": {},
   "source": [
    "# Module 2.5 Linear regression"
   ]
  },
  {
   "cell_type": "markdown",
   "id": "a46de831",
   "metadata": {},
   "source": [
    "## Setup"
   ]
  },
  {
   "cell_type": "markdown",
   "id": "b9f3d142",
   "metadata": {},
   "source": [
    "### Imports"
   ]
  },
  {
   "cell_type": "code",
   "execution_count": 147,
   "id": "0791bfef",
   "metadata": {},
   "outputs": [],
   "source": [
    "import numpy as np\n",
    "import pandas as pd"
   ]
  },
  {
   "cell_type": "markdown",
   "id": "d1d4f67e",
   "metadata": {},
   "source": [
    "### Load data"
   ]
  },
  {
   "cell_type": "code",
   "execution_count": 148,
   "id": "5c5de1a8",
   "metadata": {},
   "outputs": [
    {
     "name": "stdout",
     "output_type": "stream",
     "text": [
      "(7150, 15)\n"
     ]
    },
    {
     "data": {
      "text/html": [
       "<div>\n",
       "<style scoped>\n",
       "    .dataframe tbody tr th:only-of-type {\n",
       "        vertical-align: middle;\n",
       "    }\n",
       "\n",
       "    .dataframe tbody tr th {\n",
       "        vertical-align: top;\n",
       "    }\n",
       "\n",
       "    .dataframe thead th {\n",
       "        text-align: right;\n",
       "    }\n",
       "</style>\n",
       "<table border=\"1\" class=\"dataframe\">\n",
       "  <thead>\n",
       "    <tr style=\"text-align: right;\">\n",
       "      <th></th>\n",
       "      <th>make</th>\n",
       "      <th>model</th>\n",
       "      <th>year</th>\n",
       "      <th>engine_fuel_type</th>\n",
       "      <th>engine_hp</th>\n",
       "      <th>engine_cylinders</th>\n",
       "      <th>transmission_type</th>\n",
       "      <th>driven_wheels</th>\n",
       "      <th>number_of_doors</th>\n",
       "      <th>market_category</th>\n",
       "      <th>vehicle_size</th>\n",
       "      <th>vehicle_style</th>\n",
       "      <th>highway_mpg</th>\n",
       "      <th>city_mpg</th>\n",
       "      <th>popularity</th>\n",
       "    </tr>\n",
       "  </thead>\n",
       "  <tbody>\n",
       "    <tr>\n",
       "      <th>0</th>\n",
       "      <td>gmc</td>\n",
       "      <td>envoy_xl</td>\n",
       "      <td>2005</td>\n",
       "      <td>regular_unleaded</td>\n",
       "      <td>275.0</td>\n",
       "      <td>6.0</td>\n",
       "      <td>automatic</td>\n",
       "      <td>rear_wheel_drive</td>\n",
       "      <td>4.0</td>\n",
       "      <td>NaN</td>\n",
       "      <td>large</td>\n",
       "      <td>4dr_suv</td>\n",
       "      <td>18</td>\n",
       "      <td>13</td>\n",
       "      <td>549</td>\n",
       "    </tr>\n",
       "    <tr>\n",
       "      <th>1</th>\n",
       "      <td>volkswagen</td>\n",
       "      <td>passat</td>\n",
       "      <td>2016</td>\n",
       "      <td>regular_unleaded</td>\n",
       "      <td>170.0</td>\n",
       "      <td>4.0</td>\n",
       "      <td>automatic</td>\n",
       "      <td>front_wheel_drive</td>\n",
       "      <td>4.0</td>\n",
       "      <td>NaN</td>\n",
       "      <td>midsize</td>\n",
       "      <td>sedan</td>\n",
       "      <td>38</td>\n",
       "      <td>25</td>\n",
       "      <td>873</td>\n",
       "    </tr>\n",
       "    <tr>\n",
       "      <th>2</th>\n",
       "      <td>honda</td>\n",
       "      <td>odyssey</td>\n",
       "      <td>2016</td>\n",
       "      <td>regular_unleaded</td>\n",
       "      <td>248.0</td>\n",
       "      <td>6.0</td>\n",
       "      <td>automatic</td>\n",
       "      <td>front_wheel_drive</td>\n",
       "      <td>4.0</td>\n",
       "      <td>NaN</td>\n",
       "      <td>large</td>\n",
       "      <td>passenger_minivan</td>\n",
       "      <td>28</td>\n",
       "      <td>19</td>\n",
       "      <td>2202</td>\n",
       "    </tr>\n",
       "    <tr>\n",
       "      <th>3</th>\n",
       "      <td>chevrolet</td>\n",
       "      <td>cruze</td>\n",
       "      <td>2015</td>\n",
       "      <td>regular_unleaded</td>\n",
       "      <td>138.0</td>\n",
       "      <td>4.0</td>\n",
       "      <td>manual</td>\n",
       "      <td>front_wheel_drive</td>\n",
       "      <td>4.0</td>\n",
       "      <td>NaN</td>\n",
       "      <td>midsize</td>\n",
       "      <td>sedan</td>\n",
       "      <td>36</td>\n",
       "      <td>25</td>\n",
       "      <td>1385</td>\n",
       "    </tr>\n",
       "    <tr>\n",
       "      <th>4</th>\n",
       "      <td>volvo</td>\n",
       "      <td>740</td>\n",
       "      <td>1991</td>\n",
       "      <td>regular_unleaded</td>\n",
       "      <td>162.0</td>\n",
       "      <td>4.0</td>\n",
       "      <td>automatic</td>\n",
       "      <td>rear_wheel_drive</td>\n",
       "      <td>4.0</td>\n",
       "      <td>luxury,performance</td>\n",
       "      <td>midsize</td>\n",
       "      <td>sedan</td>\n",
       "      <td>20</td>\n",
       "      <td>17</td>\n",
       "      <td>870</td>\n",
       "    </tr>\n",
       "  </tbody>\n",
       "</table>\n",
       "</div>"
      ],
      "text/plain": [
       "         make     model  year  engine_fuel_type  engine_hp  engine_cylinders  \\\n",
       "0         gmc  envoy_xl  2005  regular_unleaded      275.0               6.0   \n",
       "1  volkswagen    passat  2016  regular_unleaded      170.0               4.0   \n",
       "2       honda   odyssey  2016  regular_unleaded      248.0               6.0   \n",
       "3   chevrolet     cruze  2015  regular_unleaded      138.0               4.0   \n",
       "4       volvo       740  1991  regular_unleaded      162.0               4.0   \n",
       "\n",
       "  transmission_type      driven_wheels  number_of_doors     market_category  \\\n",
       "0         automatic   rear_wheel_drive              4.0                 NaN   \n",
       "1         automatic  front_wheel_drive              4.0                 NaN   \n",
       "2         automatic  front_wheel_drive              4.0                 NaN   \n",
       "3            manual  front_wheel_drive              4.0                 NaN   \n",
       "4         automatic   rear_wheel_drive              4.0  luxury,performance   \n",
       "\n",
       "  vehicle_size      vehicle_style  highway_mpg  city_mpg  popularity  \n",
       "0        large            4dr_suv           18        13         549  \n",
       "1      midsize              sedan           38        25         873  \n",
       "2        large  passenger_minivan           28        19        2202  \n",
       "3      midsize              sedan           36        25        1385  \n",
       "4      midsize              sedan           20        17         870  "
      ]
     },
     "execution_count": 148,
     "metadata": {},
     "output_type": "execute_result"
    }
   ],
   "source": [
    "# Load training data\n",
    "df_train = pd.read_csv('02-regression/notebooks/data_train.csv')\n",
    "print(df_train.shape)\n",
    "df_train.head()"
   ]
  },
  {
   "cell_type": "markdown",
   "id": "ca34b02f",
   "metadata": {},
   "source": [
    "## Simple linear regression from scratch"
   ]
  },
  {
   "cell_type": "markdown",
   "id": "3066d1f1",
   "metadata": {},
   "source": [
    "### 2.5 Simple linear regression implementation"
   ]
  },
  {
   "cell_type": "markdown",
   "id": "679e2cd3",
   "metadata": {},
   "source": [
    "#### Notes\n",
    "From \n",
    "https://github.com/DataTalksClub/machine-learning-zoomcamp/blob/master/02-regression/05-linear-regression-simple.md\n",
    "\n",
    "Model for solving regression tasks, in which the objective is to adjust a line for the data and make predictions on new values. The input of this model is the **feature matrix** `X` and a `y` **vector of predictions** is obtained, trying to be as close as possible to the **actual** `y` values. The linear regression formula is the sum of the bias term \\( $w_0$ \\), which refers to the predictions if there is no information, and each of the feature values times their corresponding weights as \\( $x_{i1} \\cdot w_1 + x_{i2} \\cdot w_2 + ... + x_{in} \\cdot w_n$ \\).\n",
    "\n",
    "So the simple linear regression formula looks like:\n",
    "\n",
    "$g(x_i) = w_0 + x_{i1} \\cdot w_1 + x_{i2} \\cdot w_2 + ... + x_{in} \\cdot w_n$.\n",
    "\n",
    "And that can be further simplified as:\n",
    "\n",
    "$g(x_i) = w_0 + \\displaystyle\\sum_{j=1}^{n} w_j \\cdot x_{ij}$\n",
    "\n",
    "Here is a simple implementation of Linear Regression in python:\n",
    "\n",
    "~~~~python\n",
    "w0 = 7.1\n",
    "def linear_regression(xi):\n",
    "    \n",
    "    n = len(xi)\n",
    "    \n",
    "    pred = w0\n",
    "    w = [0.01, 0.04, 0.002]\n",
    "    for j in range(n):\n",
    "        pred = pred + w[j] * xi[j]\n",
    "    return pred\n",
    "~~~~\n",
    "        \n",
    "\n",
    "If we look at the $\\displaystyle\\sum_{j=1}^{n} w_j \\cdot x_{ij}$ part in the above equation, we know that this is nothing else but a vector-vector multiplication. Hence, we can rewrite the equation as $g(x_i) = w_0 + x_i^T \\cdot w$\n",
    "\n",
    "We need to assure that the result is shown on the untransformed scale by using the inverse function `exp()`."
   ]
  },
  {
   "cell_type": "markdown",
   "id": "d70b9679",
   "metadata": {},
   "source": [
    "#### Implementation"
   ]
  },
  {
   "cell_type": "code",
   "execution_count": 149,
   "id": "786e12ac",
   "metadata": {},
   "outputs": [
    {
     "data": {
      "text/plain": [
       "make                            toyota\n",
       "model                            yaris\n",
       "year                              2015\n",
       "engine_fuel_type      regular_unleaded\n",
       "engine_hp                        106.0\n",
       "engine_cylinders                   4.0\n",
       "transmission_type               manual\n",
       "driven_wheels        front_wheel_drive\n",
       "number_of_doors                    2.0\n",
       "market_category              hatchback\n",
       "vehicle_size                   compact\n",
       "vehicle_style            2dr_hatchback\n",
       "highway_mpg                         37\n",
       "city_mpg                            30\n",
       "popularity                        2031\n",
       "Name: 10, dtype: object"
      ]
     },
     "execution_count": 149,
     "metadata": {},
     "output_type": "execute_result"
    }
   ],
   "source": [
    "# get a random car\n",
    "df_train.iloc[10]"
   ]
  },
  {
   "cell_type": "code",
   "execution_count": 150,
   "id": "4e7a9f9f",
   "metadata": {},
   "outputs": [],
   "source": [
    "xi = [106, 30, 2031]  # example input (parameters)"
   ]
  },
  {
   "cell_type": "code",
   "execution_count": 151,
   "id": "acb929b7",
   "metadata": {},
   "outputs": [],
   "source": [
    "w0 = 7.17  # bias term\n",
    "w = [0.01, 0.04, 0.002]  # weights"
   ]
  },
  {
   "cell_type": "code",
   "execution_count": 152,
   "id": "76bc7f82",
   "metadata": {},
   "outputs": [],
   "source": [
    "def linear_regression(xi):\n",
    "    \"\"\"Predict the target value using linear regression given a single row of features.\"\"\"\n",
    "    n = len(xi)\n",
    "\n",
    "    pred = w0\n",
    "\n",
    "    for j in range(n):\n",
    "        pred = pred + w[j] * xi[j]\n",
    "\n",
    "    return pred"
   ]
  },
  {
   "cell_type": "code",
   "execution_count": 153,
   "id": "b2280f57",
   "metadata": {},
   "outputs": [
    {
     "name": "stdout",
     "output_type": "stream",
     "text": [
      "13.492\n"
     ]
    }
   ],
   "source": [
    "prediction = linear_regression(xi)  # make prediction\n",
    "print(prediction)"
   ]
  },
  {
   "cell_type": "code",
   "execution_count": 154,
   "id": "c8c80bb3",
   "metadata": {},
   "outputs": [
    {
     "name": "stdout",
     "output_type": "stream",
     "text": [
      "723603.32\n"
     ]
    }
   ],
   "source": [
    "price_simple = np.expm1(prediction).round(2)  # convert back to original scale\n",
    "print(price_simple)"
   ]
  },
  {
   "cell_type": "markdown",
   "id": "73c1cb30",
   "metadata": {},
   "source": [
    "### 2.6 Linear regression vector form"
   ]
  },
  {
   "cell_type": "markdown",
   "id": "2ab81177",
   "metadata": {},
   "source": [
    "#### Notes\n",
    "\n",
    "From https://github.com/DataTalksClub/machine-learning-zoomcamp/blob/master/02-regression/06-linear-regression-vector.md\n",
    "\n",
    "The formula of linear regression can be synthesized with the dot product between features and weights. The feature vector includes the *bias* term with an *x* value of one, such as $w_{0}^{x_{i0}},\\ where\\ x_{i0} = 1\\ for\\ w_0$.\n",
    "\n",
    "When all the records are included, the linear regression can be calculated with the dot product between ***feature matrix*** and ***vector of weights***, obtaining the `y` vector of predictions. "
   ]
  },
  {
   "cell_type": "markdown",
   "id": "9ae1602c",
   "metadata": {},
   "source": [
    "#### Implementation"
   ]
  },
  {
   "cell_type": "code",
   "execution_count": 155,
   "id": "e13a90bd",
   "metadata": {},
   "outputs": [],
   "source": [
    "def dot(xi, w):\n",
    "    \"\"\"Compute the dot product between two vectors.\"\"\"\n",
    "    n = len(xi)\n",
    "\n",
    "    res = 0.0\n",
    "\n",
    "    for j in range(n):\n",
    "        res = res + xi[j] * w[j]\n",
    "\n",
    "    return res"
   ]
  },
  {
   "cell_type": "code",
   "execution_count": 156,
   "id": "44ac9eda",
   "metadata": {},
   "outputs": [],
   "source": [
    "def linear_regression_vector_form(xi):\n",
    "    \"\"\"Predict the target value using linear regression given a single row of features.\"\"\"\n",
    "    return w0 + dot(xi, w)"
   ]
  },
  {
   "cell_type": "code",
   "execution_count": 157,
   "id": "e99b63ba",
   "metadata": {},
   "outputs": [
    {
     "name": "stdout",
     "output_type": "stream",
     "text": [
      "13.492\n"
     ]
    }
   ],
   "source": [
    "prediction = linear_regression_vector_form(xi)  # make prediction\n",
    "print(prediction)"
   ]
  },
  {
   "cell_type": "code",
   "execution_count": 158,
   "id": "fcd0d7a6",
   "metadata": {},
   "outputs": [
    {
     "name": "stdout",
     "output_type": "stream",
     "text": [
      "723603.32\n"
     ]
    }
   ],
   "source": [
    "price_vector = np.expm1(prediction).round(2)  # revert to original scale\n",
    "print(price_vector)  # convert back to original scale\n",
    "# verify both methods give the same result\n",
    "assert np.allclose(price_simple, price_vector)"
   ]
  },
  {
   "cell_type": "markdown",
   "id": "7a0612b9",
   "metadata": {},
   "source": [
    "We can simplify further so that the entire calculation is a dot product."
   ]
  },
  {
   "cell_type": "code",
   "execution_count": 159,
   "id": "b1c77079",
   "metadata": {},
   "outputs": [
    {
     "data": {
      "text/plain": [
       "[7.17, 0.01, 0.04, 0.002]"
      ]
     },
     "execution_count": 159,
     "metadata": {},
     "output_type": "execute_result"
    }
   ],
   "source": [
    "# The following syntax will concatenate lists in Python\n",
    "w_new = [w0] + w  # add bias term to weights\n",
    "w_new"
   ]
  },
  {
   "cell_type": "code",
   "execution_count": 160,
   "id": "67026921",
   "metadata": {},
   "outputs": [],
   "source": [
    "def linear_regression_vector_form_dot(xi):\n",
    "    \"\"\"Predict the target value using linear regression given a single row of features.\"\"\"\n",
    "    xi_new = [1] + xi  # add bias term to features\n",
    "    return dot(xi_new, w_new)"
   ]
  },
  {
   "cell_type": "code",
   "execution_count": null,
   "id": "733767c5",
   "metadata": {},
   "outputs": [
    {
     "data": {
      "text/plain": [
       "array([[   1,  148,   24, 1385],\n",
       "       [   1,  132,   25, 2031],\n",
       "       [   1,  453,   11,   86]])"
      ]
     },
     "execution_count": 161,
     "metadata": {},
     "output_type": "execute_result"
    }
   ],
   "source": [
    "# Let's create a bunch of fake car features\n",
    "x1 = [1, 148, 24, 1385]\n",
    "x2 = [1, 132, 25, 2031]\n",
    "x10 = [1, 453, 11, 86]\n",
    "\n",
    "# Create a matrix\n",
    "X = [x1, x2, x10]  # list of lists\n",
    "X = np.array(X)  # convert to numpy array\n",
    "X"
   ]
  },
  {
   "cell_type": "code",
   "execution_count": 162,
   "id": "a4c494b7",
   "metadata": {},
   "outputs": [
    {
     "name": "stdout",
     "output_type": "stream",
     "text": [
      "[12.38  13.552 12.312]\n"
     ]
    }
   ],
   "source": [
    "predictions = X.dot(w_new)  # matrix-vector product\n",
    "print(predictions)"
   ]
  },
  {
   "cell_type": "code",
   "execution_count": 163,
   "id": "a88469ce",
   "metadata": {},
   "outputs": [
    {
     "name": "stdout",
     "output_type": "stream",
     "text": [
      "[237992.82 768348.51 222347.22]\n"
     ]
    }
   ],
   "source": [
    "prices = np.expm1(predictions).round(2)  # convert back to original scale\n",
    "print(prices)"
   ]
  },
  {
   "cell_type": "code",
   "execution_count": 164,
   "id": "f1be435a",
   "metadata": {},
   "outputs": [],
   "source": [
    "def linear_regression(X):\n",
    "    return X.dot(w_new)"
   ]
  },
  {
   "cell_type": "code",
   "execution_count": 165,
   "id": "514b383d",
   "metadata": {},
   "outputs": [
    {
     "name": "stdout",
     "output_type": "stream",
     "text": [
      "[12.38  13.552 12.312]\n",
      "[237992.82 768348.51 222347.22]\n"
     ]
    }
   ],
   "source": [
    "# Use the defined function\n",
    "predictions = linear_regression(X)\n",
    "print(predictions)\n",
    "prices = np.expm1(predictions).round(2)  # convert back to original scale\n",
    "print(prices)"
   ]
  }
 ],
 "metadata": {
  "kernelspec": {
   "display_name": "Python 3 (ipykernel)",
   "language": "python",
   "name": "python3"
  },
  "language_info": {
   "codemirror_mode": {
    "name": "ipython",
    "version": 3
   },
   "file_extension": ".py",
   "mimetype": "text/x-python",
   "name": "python",
   "nbconvert_exporter": "python",
   "pygments_lexer": "ipython3",
   "version": "3.11.13"
  }
 },
 "nbformat": 4,
 "nbformat_minor": 5
}
