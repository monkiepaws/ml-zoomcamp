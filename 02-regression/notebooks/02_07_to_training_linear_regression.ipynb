{
 "cells": [
  {
   "cell_type": "markdown",
   "id": "6566dda4",
   "metadata": {},
   "source": [
    "# Module 2.7 Training a linear regression model"
   ]
  },
  {
   "cell_type": "markdown",
   "id": "bafa61a6",
   "metadata": {},
   "source": [
    "## Setup"
   ]
  },
  {
   "cell_type": "markdown",
   "id": "2ffc503a",
   "metadata": {},
   "source": [
    "### Imports"
   ]
  },
  {
   "cell_type": "code",
   "execution_count": 18,
   "id": "e096ea3b",
   "metadata": {},
   "outputs": [],
   "source": [
    "import numpy as np\n",
    "import pandas as pd\n",
    "import matplotlib.pyplot as plt\n",
    "import seaborn as sns\n",
    "\n",
    "%matplotlib inline"
   ]
  },
  {
   "cell_type": "markdown",
   "id": "e389d88f",
   "metadata": {},
   "source": [
    "### Load training data"
   ]
  },
  {
   "cell_type": "code",
   "execution_count": 19,
   "id": "73db9368",
   "metadata": {},
   "outputs": [
    {
     "name": "stdout",
     "output_type": "stream",
     "text": [
      "(7150, 16)\n"
     ]
    },
    {
     "data": {
      "text/html": [
       "<div>\n",
       "<style scoped>\n",
       "    .dataframe tbody tr th:only-of-type {\n",
       "        vertical-align: middle;\n",
       "    }\n",
       "\n",
       "    .dataframe tbody tr th {\n",
       "        vertical-align: top;\n",
       "    }\n",
       "\n",
       "    .dataframe thead th {\n",
       "        text-align: right;\n",
       "    }\n",
       "</style>\n",
       "<table border=\"1\" class=\"dataframe\">\n",
       "  <thead>\n",
       "    <tr style=\"text-align: right;\">\n",
       "      <th></th>\n",
       "      <th>make</th>\n",
       "      <th>model</th>\n",
       "      <th>year</th>\n",
       "      <th>engine_fuel_type</th>\n",
       "      <th>engine_hp</th>\n",
       "      <th>engine_cylinders</th>\n",
       "      <th>transmission_type</th>\n",
       "      <th>driven_wheels</th>\n",
       "      <th>number_of_doors</th>\n",
       "      <th>market_category</th>\n",
       "      <th>vehicle_size</th>\n",
       "      <th>vehicle_style</th>\n",
       "      <th>highway_mpg</th>\n",
       "      <th>city_mpg</th>\n",
       "      <th>popularity</th>\n",
       "      <th>msrp</th>\n",
       "    </tr>\n",
       "  </thead>\n",
       "  <tbody>\n",
       "    <tr>\n",
       "      <th>0</th>\n",
       "      <td>gmc</td>\n",
       "      <td>envoy_xl</td>\n",
       "      <td>2005</td>\n",
       "      <td>regular_unleaded</td>\n",
       "      <td>275.0</td>\n",
       "      <td>6.0</td>\n",
       "      <td>automatic</td>\n",
       "      <td>rear_wheel_drive</td>\n",
       "      <td>4.0</td>\n",
       "      <td>NaN</td>\n",
       "      <td>large</td>\n",
       "      <td>4dr_suv</td>\n",
       "      <td>18</td>\n",
       "      <td>13</td>\n",
       "      <td>549</td>\n",
       "      <td>29695</td>\n",
       "    </tr>\n",
       "    <tr>\n",
       "      <th>1</th>\n",
       "      <td>volkswagen</td>\n",
       "      <td>passat</td>\n",
       "      <td>2016</td>\n",
       "      <td>regular_unleaded</td>\n",
       "      <td>170.0</td>\n",
       "      <td>4.0</td>\n",
       "      <td>automatic</td>\n",
       "      <td>front_wheel_drive</td>\n",
       "      <td>4.0</td>\n",
       "      <td>NaN</td>\n",
       "      <td>midsize</td>\n",
       "      <td>sedan</td>\n",
       "      <td>38</td>\n",
       "      <td>25</td>\n",
       "      <td>873</td>\n",
       "      <td>30495</td>\n",
       "    </tr>\n",
       "    <tr>\n",
       "      <th>2</th>\n",
       "      <td>honda</td>\n",
       "      <td>odyssey</td>\n",
       "      <td>2016</td>\n",
       "      <td>regular_unleaded</td>\n",
       "      <td>248.0</td>\n",
       "      <td>6.0</td>\n",
       "      <td>automatic</td>\n",
       "      <td>front_wheel_drive</td>\n",
       "      <td>4.0</td>\n",
       "      <td>NaN</td>\n",
       "      <td>large</td>\n",
       "      <td>passenger_minivan</td>\n",
       "      <td>28</td>\n",
       "      <td>19</td>\n",
       "      <td>2202</td>\n",
       "      <td>37650</td>\n",
       "    </tr>\n",
       "    <tr>\n",
       "      <th>3</th>\n",
       "      <td>chevrolet</td>\n",
       "      <td>cruze</td>\n",
       "      <td>2015</td>\n",
       "      <td>regular_unleaded</td>\n",
       "      <td>138.0</td>\n",
       "      <td>4.0</td>\n",
       "      <td>manual</td>\n",
       "      <td>front_wheel_drive</td>\n",
       "      <td>4.0</td>\n",
       "      <td>NaN</td>\n",
       "      <td>midsize</td>\n",
       "      <td>sedan</td>\n",
       "      <td>36</td>\n",
       "      <td>25</td>\n",
       "      <td>1385</td>\n",
       "      <td>16170</td>\n",
       "    </tr>\n",
       "    <tr>\n",
       "      <th>4</th>\n",
       "      <td>volvo</td>\n",
       "      <td>740</td>\n",
       "      <td>1991</td>\n",
       "      <td>regular_unleaded</td>\n",
       "      <td>162.0</td>\n",
       "      <td>4.0</td>\n",
       "      <td>automatic</td>\n",
       "      <td>rear_wheel_drive</td>\n",
       "      <td>4.0</td>\n",
       "      <td>luxury,performance</td>\n",
       "      <td>midsize</td>\n",
       "      <td>sedan</td>\n",
       "      <td>20</td>\n",
       "      <td>17</td>\n",
       "      <td>870</td>\n",
       "      <td>2000</td>\n",
       "    </tr>\n",
       "  </tbody>\n",
       "</table>\n",
       "</div>"
      ],
      "text/plain": [
       "         make     model  year  engine_fuel_type  engine_hp  engine_cylinders  \\\n",
       "0         gmc  envoy_xl  2005  regular_unleaded      275.0               6.0   \n",
       "1  volkswagen    passat  2016  regular_unleaded      170.0               4.0   \n",
       "2       honda   odyssey  2016  regular_unleaded      248.0               6.0   \n",
       "3   chevrolet     cruze  2015  regular_unleaded      138.0               4.0   \n",
       "4       volvo       740  1991  regular_unleaded      162.0               4.0   \n",
       "\n",
       "  transmission_type      driven_wheels  number_of_doors     market_category  \\\n",
       "0         automatic   rear_wheel_drive              4.0                 NaN   \n",
       "1         automatic  front_wheel_drive              4.0                 NaN   \n",
       "2         automatic  front_wheel_drive              4.0                 NaN   \n",
       "3            manual  front_wheel_drive              4.0                 NaN   \n",
       "4         automatic   rear_wheel_drive              4.0  luxury,performance   \n",
       "\n",
       "  vehicle_size      vehicle_style  highway_mpg  city_mpg  popularity   msrp  \n",
       "0        large            4dr_suv           18        13         549  29695  \n",
       "1      midsize              sedan           38        25         873  30495  \n",
       "2        large  passenger_minivan           28        19        2202  37650  \n",
       "3      midsize              sedan           36        25        1385  16170  \n",
       "4      midsize              sedan           20        17         870   2000  "
      ]
     },
     "execution_count": 19,
     "metadata": {},
     "output_type": "execute_result"
    }
   ],
   "source": [
    "df_train = pd.read_csv('02-regression/notebooks/data_train.csv')\n",
    "print(df_train.shape)\n",
    "df_train.head()"
   ]
  },
  {
   "cell_type": "markdown",
   "id": "889c48d7",
   "metadata": {},
   "source": [
    "## Calculation of weights"
   ]
  },
  {
   "cell_type": "markdown",
   "id": "d9b8187f",
   "metadata": {},
   "source": [
    "### Notes\n",
    "\n",
    "From https://github.com/DataTalksClub/machine-learning-zoomcamp/blob/master/02-regression/07-linear-regression-training.md\n",
    "\n",
    "Obtaining predictions as close as possible to $y$ target values requires the calculation of weights from the general\n",
    "LR equation. The feature matrix does not \n",
    "have an inverse because it is not square, so it is required to obtain an approximate solution, which can be\n",
    "obtained using the **Gram matrix** \n",
    "(multiplication of feature matrix ($X$) and its transpose ($X^T$)). The vector of weights or coefficients $w$ obtained with this\n",
    "formula is the closest possible solution to the LR system.\n",
    "\n",
    "Normal Equation:\n",
    "\n",
    "$w$ = $(X^TX)^{-1}X^Ty$\n",
    "\n",
    "Where:\n",
    "\n",
    "$X^TX$ is the Gram Matrix"
   ]
  },
  {
   "cell_type": "markdown",
   "id": "7c9520b9",
   "metadata": {},
   "source": [
    "### Implementation"
   ]
  },
  {
   "cell_type": "code",
   "execution_count": 20,
   "id": "41d8929d",
   "metadata": {},
   "outputs": [],
   "source": [
    "def train_linear_regression_demo(X, y):\n",
    "    \"\"\"Train linear regression model. Not implemented yet.\"\"\"\n",
    "    pass"
   ]
  },
  {
   "cell_type": "code",
   "execution_count": 21,
   "id": "e8f62725",
   "metadata": {},
   "outputs": [
    {
     "data": {
      "text/plain": [
       "array([[ 148,   24, 1385],\n",
       "       [ 132,   25, 2031],\n",
       "       [ 453,   11,   86],\n",
       "       [ 158,   24,  185],\n",
       "       [ 172,   25,  201],\n",
       "       [ 413,   11,   86],\n",
       "       [  38,   54,  185],\n",
       "       [ 142,   25,  431],\n",
       "       [ 453,   31,   86]])"
      ]
     },
     "execution_count": 21,
     "metadata": {},
     "output_type": "execute_result"
    }
   ],
   "source": [
    "# Given fake data from previous notebook\n",
    "# Let's create a bunch of fake car features into a matrix\n",
    "X_orig = [\n",
    "    [148, 24, 1385],\n",
    "    [132, 25, 2031],\n",
    "    [453, 11, 86],\n",
    "    [158, 24, 185],\n",
    "    [172, 25, 201],\n",
    "    [413, 11, 86],\n",
    "    [38,  54, 185],\n",
    "    [142, 25, 431],\n",
    "    [453, 31, 86],\n",
    "]\n",
    "X_orig = np.array(X_orig)  # convert to numpy array\n",
    "X_orig"
   ]
  },
  {
   "cell_type": "code",
   "execution_count": 22,
   "id": "9146d01b",
   "metadata": {},
   "outputs": [],
   "source": [
    "y = [10000, 20000, 15000, 20050, 10000, 20000,\n",
    "     15000, 25000, 12000]  # fake target variable"
   ]
  },
  {
   "cell_type": "code",
   "execution_count": 23,
   "id": "f9034371",
   "metadata": {},
   "outputs": [],
   "source": [
    "def train_linear_regression(X, y):\n",
    "    \"\"\"Train linear regression model using the Normal Equation.\"\"\"\n",
    "    ones = np.ones(X.shape[0])\n",
    "    X = np.column_stack([ones, X])  # add bias column of ones\n",
    "    XTX = X.T.dot(X)  # Gram matrix\n",
    "    XTX_inv = np.linalg.inv(XTX)  # inverse of Gram matrix\n",
    "    w_full = XTX_inv.dot(X.T).dot(y)  # weights including bias\n",
    "\n",
    "    return w_full[0], w_full[1:]  # return bias and weights"
   ]
  },
  {
   "cell_type": "code",
   "execution_count": 24,
   "id": "762c1002",
   "metadata": {},
   "outputs": [
    {
     "name": "stdout",
     "output_type": "stream",
     "text": [
      "bias=25844.754055766833, weights=[ -16.08906468 -199.47254894   -1.22802883]\n"
     ]
    }
   ],
   "source": [
    "(bias, weights) = train_linear_regression(X_orig, y)\n",
    "print(f'bias={bias}, weights={weights}')"
   ]
  },
  {
   "cell_type": "markdown",
   "id": "085fa464",
   "metadata": {},
   "source": [
    "## 2.8 Car price baseline model"
   ]
  },
  {
   "cell_type": "code",
   "execution_count": 25,
   "id": "1c7a576d",
   "metadata": {},
   "outputs": [
    {
     "data": {
      "text/plain": [
       "Index(['make', 'model', 'year', 'engine_fuel_type', 'engine_hp',\n",
       "       'engine_cylinders', 'transmission_type', 'driven_wheels',\n",
       "       'number_of_doors', 'market_category', 'vehicle_size', 'vehicle_style',\n",
       "       'highway_mpg', 'city_mpg', 'popularity', 'msrp'],\n",
       "      dtype='object')"
      ]
     },
     "execution_count": 25,
     "metadata": {},
     "output_type": "execute_result"
    }
   ],
   "source": [
    "# Let's see what features we have in the real dataset\n",
    "df_train.columns"
   ]
  },
  {
   "cell_type": "code",
   "execution_count": 26,
   "id": "034f45cb",
   "metadata": {},
   "outputs": [],
   "source": [
    "# Let's select our feature columns\n",
    "base = ['engine_hp', 'engine_cylinders',\n",
    "        'highway_mpg', 'city_mpg', 'popularity']"
   ]
  },
  {
   "cell_type": "code",
   "execution_count": 27,
   "id": "cd719d9d",
   "metadata": {},
   "outputs": [
    {
     "data": {
      "text/plain": [
       "array([[ 275.,    6.,   18.,   13.,  549.],\n",
       "       [ 170.,    4.,   38.,   25.,  873.],\n",
       "       [ 248.,    6.,   28.,   19., 2202.],\n",
       "       ...,\n",
       "       [ 150.,    4.,   24.,   17., 1851.],\n",
       "       [ 160.,    4.,   31.,   22.,  204.],\n",
       "       [ 274.,    4.,   27.,   17., 1439.]], shape=(7150, 5))"
      ]
     },
     "execution_count": 27,
     "metadata": {},
     "output_type": "execute_result"
    }
   ],
   "source": [
    "# Extract training feature matrix\n",
    "X_train = df_train[base].values\n",
    "X_train"
   ]
  },
  {
   "cell_type": "code",
   "execution_count": 28,
   "id": "4df274c9",
   "metadata": {},
   "outputs": [
    {
     "data": {
      "text/plain": [
       "engine_hp           52\n",
       "engine_cylinders    16\n",
       "highway_mpg          0\n",
       "city_mpg             0\n",
       "popularity           0\n",
       "dtype: int64"
      ]
     },
     "execution_count": 28,
     "metadata": {},
     "output_type": "execute_result"
    }
   ],
   "source": [
    "df_train[base].isnull().sum()  # check for missing values"
   ]
  },
  {
   "cell_type": "code",
   "execution_count": 29,
   "id": "9dc04b27",
   "metadata": {},
   "outputs": [
    {
     "data": {
      "text/plain": [
       "array([[ 275.,    6.,   18.,   13.,  549.],\n",
       "       [ 170.,    4.,   38.,   25.,  873.],\n",
       "       [ 248.,    6.,   28.,   19., 2202.],\n",
       "       ...,\n",
       "       [ 150.,    4.,   24.,   17., 1851.],\n",
       "       [ 160.,    4.,   31.,   22.,  204.],\n",
       "       [ 274.,    4.,   27.,   17., 1439.]], shape=(7150, 5))"
      ]
     },
     "execution_count": 29,
     "metadata": {},
     "output_type": "execute_result"
    }
   ],
   "source": [
    "# There are missing values in engine_hp and engine_cylinders\n",
    "# Let's fill them with 0\n",
    "# Note: In a real scenario, consider more sophisticated imputation methods\n",
    "X_train = df_train[base].fillna(0).values\n",
    "X_train"
   ]
  },
  {
   "cell_type": "code",
   "execution_count": 30,
   "id": "b94597b5",
   "metadata": {},
   "outputs": [
    {
     "data": {
      "text/plain": [
       "array([10.29876764, 10.32535081, 10.53611479, ...,  9.83258214,\n",
       "        9.96062374, 10.28537692], shape=(7150,))"
      ]
     },
     "execution_count": 30,
     "metadata": {},
     "output_type": "execute_result"
    }
   ],
   "source": [
    "# Extract training target vector\n",
    "y_train = np.log1p(df_train.msrp.values)\n",
    "y_train"
   ]
  },
  {
   "cell_type": "code",
   "execution_count": 31,
   "id": "f8dc7cce",
   "metadata": {},
   "outputs": [
    {
     "name": "stdout",
     "output_type": "stream",
     "text": [
      "bias=7.9048946245363085, weights=[ 9.35338298e-03 -1.38236607e-01  1.49631207e-02  1.51021128e-02\n",
      " -1.97546303e-05]\n",
      "predictions: [10.10247365  9.87092892 10.05752179 ...  9.33424064  9.64056275\n",
      " 10.5470884 ]\n"
     ]
    }
   ],
   "source": [
    "# Train the model on the real dataset\n",
    "(w0, w) = train_linear_regression(X_train, y_train)\n",
    "\n",
    "# Make predictions\n",
    "y_pred = w0 + X_train.dot(w)\n",
    "\n",
    "# Display results\n",
    "print(f'bias={w0}, weights={w}')\n",
    "print(f'predictions: {y_pred}')"
   ]
  },
  {
   "cell_type": "code",
   "execution_count": 32,
   "id": "3a00519f",
   "metadata": {},
   "outputs": [
    {
     "data": {
      "text/plain": [
       "<Axes: ylabel='Count'>"
      ]
     },
     "execution_count": 32,
     "metadata": {},
     "output_type": "execute_result"
    },
    {
     "data": {
      "image/png": "[encoded data removed]",
      "text/plain": [
       "<Figure size 640x480 with 1 Axes>"
      ]
     },
     "metadata": {},
     "output_type": "display_data"
    }
   ],
   "source": [
    "# Plot true vs predicted values\n",
    "sns.histplot(y_pred, color='red', bins=50)\n",
    "sns.histplot(y_train, color='blue', alpha=0.5, bins=50)"
   ]
  },
  {
   "cell_type": "markdown",
   "id": "5f6b4e66",
   "metadata": {},
   "source": [
    "We can see the predicted values (in red) are off from the true values (in blue).\n",
    "Further tuning and feature engineering are needed to improve the model's performance."
   ]
  },
  {
   "cell_type": "markdown",
   "id": "e9d52f71",
   "metadata": {},
   "source": [
    "## 2.9 Root mean squared error (RMSE)"
   ]
  },
  {
   "cell_type": "markdown",
   "id": "7b0eb4de",
   "metadata": {},
   "source": [
    "### Notes\n",
    "\n",
    "From https://github.com/DataTalksClub/machine-learning-zoomcamp/blob/master/02-regression/09-rmse.md\n",
    "\n",
    "* In the previous lesson we found out our predictions were a bit off from the actual target values in the training dataset. We need a way to quantify how good or bad the model is. This is where RMSE can be of help.\n",
    "* Root Mean Squared Error (RMSE) is a way to evaluate regression models. It measures the error associated with the model being evaluated. This numerical figure can then be used to compare models, enabling us to choose the one that gives the best predictions.\n",
    "\n",
    "$$RMSE = \\sqrt{ \\frac{1}{m} \\sum_{i=1}^{m} {(g(x_i) - y_i)^2}}$$\n",
    "\n",
    "- $g(x_i)$ is the prediction\n",
    "- $y_i$ is the actual value\n",
    "- $m$ is the number of observations in the dataset (i.e. cars)"
   ]
  },
  {
   "cell_type": "markdown",
   "id": "f4821c94",
   "metadata": {},
   "source": [
    "### Implementation"
   ]
  },
  {
   "cell_type": "code",
   "execution_count": 33,
   "id": "3131f55a",
   "metadata": {},
   "outputs": [],
   "source": [
    "def rmse(y, y_pred):\n",
    "    \"\"\"Calculate Root Mean Squared Error.\"\"\"\n",
    "    se = (y - y_pred) ** 2  # squared errors\n",
    "    mse = se.mean()  # mean squared error\n",
    "    return np.sqrt(mse)  # root mean squared error"
   ]
  },
  {
   "cell_type": "code",
   "execution_count": 34,
   "id": "29d78e5a",
   "metadata": {},
   "outputs": [
    {
     "data": {
      "text/plain": [
       "np.float64(0.7570200472453603)"
      ]
     },
     "execution_count": 34,
     "metadata": {},
     "output_type": "execute_result"
    }
   ],
   "source": [
    "rmse(y_train, y_pred)"
   ]
  }
 ],
 "metadata": {
  "kernelspec": {
   "display_name": "Python 3 (ipykernel)",
   "language": "python",
   "name": "python3"
  },
  "language_info": {
   "codemirror_mode": {
    "name": "ipython",
    "version": 3
   },
   "file_extension": ".py",
   "mimetype": "text/x-python",
   "name": "python",
   "nbconvert_exporter": "python",
   "pygments_lexer": "ipython3",
   "version": "3.11.13"
  }
 },
 "nbformat": 4,
 "nbformat_minor": 5
}
